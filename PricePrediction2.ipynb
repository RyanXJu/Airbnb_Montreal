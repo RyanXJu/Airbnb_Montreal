{
  "nbformat": 4,
  "nbformat_minor": 0,
  "metadata": {
    "colab": {
      "name": "Untitled2.ipynb",
      "provenance": [],
      "authorship_tag": "ABX9TyOf6EXjr759+3OG4VNwIDYF",
      "include_colab_link": true
    },
    "kernelspec": {
      "name": "python3",
      "display_name": "Python 3"
    }
  },
  "cells": [
    {
      "cell_type": "markdown",
      "metadata": {
        "id": "view-in-github",
        "colab_type": "text"
      },
      "source": [
        "<a href=\"https://colab.research.google.com/github/RyanXJu/Airbnb_Montreal/blob/master/PricePrediction2.ipynb\" target=\"_parent\"><img src=\"https://colab.research.google.com/assets/colab-badge.svg\" alt=\"Open In Colab\"/></a>"
      ]
    },
    {
      "cell_type": "markdown",
      "metadata": {
        "id": "NB5t24NY0tQJ",
        "colab_type": "text"
      },
      "source": [
        "# Predict Airbnb price in Montreal"
      ]
    },
    {
      "cell_type": "code",
      "metadata": {
        "id": "HNOnJbIv0sZc",
        "colab_type": "code",
        "outputId": "98b8a76f-3edf-4dee-a69b-bfa1996d7a15",
        "colab": {
          "base_uri": "https://localhost:8080/",
          "height": 54
        }
      },
      "source": [
        "from google.colab import drive\n",
        "drive.mount('/content/gdrive')"
      ],
      "execution_count": 31,
      "outputs": [
        {
          "output_type": "stream",
          "text": [
            "Drive already mounted at /content/gdrive; to attempt to forcibly remount, call drive.mount(\"/content/gdrive\", force_remount=True).\n"
          ],
          "name": "stdout"
        }
      ]
    },
    {
      "cell_type": "code",
      "metadata": {
        "id": "0VufvsBG1-nx",
        "colab_type": "code",
        "colab": {}
      },
      "source": [
        "import pandas as pd\n",
        "import numpy as np\n",
        "import matplotlib.pyplot as plt\n",
        "%matplotlib inline\n",
        "\n",
        "import seaborn as sns\n",
        "import scipy"
      ],
      "execution_count": 0,
      "outputs": []
    },
    {
      "cell_type": "code",
      "metadata": {
        "id": "qm3EoMh92BYu",
        "colab_type": "code",
        "outputId": "d13898f5-ea37-4fe8-98fb-ab518fc212e5",
        "colab": {
          "base_uri": "https://localhost:8080/",
          "height": 72
        }
      },
      "source": [
        "# load listing datasets\n",
        "root_path = 'gdrive/My Drive/Airbnb/'\n",
        "listings_detail = pd.read_csv(root_path+\"listings_detail.csv\")"
      ],
      "execution_count": 33,
      "outputs": [
        {
          "output_type": "stream",
          "text": [
            "/usr/local/lib/python3.6/dist-packages/IPython/core/interactiveshell.py:2718: DtypeWarning: Columns (61,62) have mixed types.Specify dtype option on import or set low_memory=False.\n",
            "  interactivity=interactivity, compiler=compiler, result=result)\n"
          ],
          "name": "stderr"
        }
      ]
    },
    {
      "cell_type": "code",
      "metadata": {
        "id": "ZGvgbNKh2DBn",
        "colab_type": "code",
        "outputId": "70d37a1b-c04a-409b-d5ed-f71de51d67a7",
        "colab": {
          "base_uri": "https://localhost:8080/",
          "height": 488
        }
      },
      "source": [
        "listings_detail.head(3)"
      ],
      "execution_count": 34,
      "outputs": [
        {
          "output_type": "execute_result",
          "data": {
            "text/html": [
              "<div>\n",
              "<style scoped>\n",
              "    .dataframe tbody tr th:only-of-type {\n",
              "        vertical-align: middle;\n",
              "    }\n",
              "\n",
              "    .dataframe tbody tr th {\n",
              "        vertical-align: top;\n",
              "    }\n",
              "\n",
              "    .dataframe thead th {\n",
              "        text-align: right;\n",
              "    }\n",
              "</style>\n",
              "<table border=\"1\" class=\"dataframe\">\n",
              "  <thead>\n",
              "    <tr style=\"text-align: right;\">\n",
              "      <th></th>\n",
              "      <th>id</th>\n",
              "      <th>listing_url</th>\n",
              "      <th>scrape_id</th>\n",
              "      <th>last_scraped</th>\n",
              "      <th>name</th>\n",
              "      <th>summary</th>\n",
              "      <th>space</th>\n",
              "      <th>description</th>\n",
              "      <th>experiences_offered</th>\n",
              "      <th>neighborhood_overview</th>\n",
              "      <th>notes</th>\n",
              "      <th>transit</th>\n",
              "      <th>access</th>\n",
              "      <th>interaction</th>\n",
              "      <th>house_rules</th>\n",
              "      <th>thumbnail_url</th>\n",
              "      <th>medium_url</th>\n",
              "      <th>picture_url</th>\n",
              "      <th>xl_picture_url</th>\n",
              "      <th>host_id</th>\n",
              "      <th>host_url</th>\n",
              "      <th>host_name</th>\n",
              "      <th>host_since</th>\n",
              "      <th>host_location</th>\n",
              "      <th>host_about</th>\n",
              "      <th>host_response_time</th>\n",
              "      <th>host_response_rate</th>\n",
              "      <th>host_acceptance_rate</th>\n",
              "      <th>host_is_superhost</th>\n",
              "      <th>host_thumbnail_url</th>\n",
              "      <th>host_picture_url</th>\n",
              "      <th>host_neighbourhood</th>\n",
              "      <th>host_listings_count</th>\n",
              "      <th>host_total_listings_count</th>\n",
              "      <th>host_verifications</th>\n",
              "      <th>host_has_profile_pic</th>\n",
              "      <th>host_identity_verified</th>\n",
              "      <th>street</th>\n",
              "      <th>neighbourhood</th>\n",
              "      <th>neighbourhood_cleansed</th>\n",
              "      <th>...</th>\n",
              "      <th>extra_people</th>\n",
              "      <th>minimum_nights</th>\n",
              "      <th>maximum_nights</th>\n",
              "      <th>minimum_minimum_nights</th>\n",
              "      <th>maximum_minimum_nights</th>\n",
              "      <th>minimum_maximum_nights</th>\n",
              "      <th>maximum_maximum_nights</th>\n",
              "      <th>minimum_nights_avg_ntm</th>\n",
              "      <th>maximum_nights_avg_ntm</th>\n",
              "      <th>calendar_updated</th>\n",
              "      <th>has_availability</th>\n",
              "      <th>availability_30</th>\n",
              "      <th>availability_60</th>\n",
              "      <th>availability_90</th>\n",
              "      <th>availability_365</th>\n",
              "      <th>calendar_last_scraped</th>\n",
              "      <th>number_of_reviews</th>\n",
              "      <th>number_of_reviews_ltm</th>\n",
              "      <th>first_review</th>\n",
              "      <th>last_review</th>\n",
              "      <th>review_scores_rating</th>\n",
              "      <th>review_scores_accuracy</th>\n",
              "      <th>review_scores_cleanliness</th>\n",
              "      <th>review_scores_checkin</th>\n",
              "      <th>review_scores_communication</th>\n",
              "      <th>review_scores_location</th>\n",
              "      <th>review_scores_value</th>\n",
              "      <th>requires_license</th>\n",
              "      <th>license</th>\n",
              "      <th>jurisdiction_names</th>\n",
              "      <th>instant_bookable</th>\n",
              "      <th>is_business_travel_ready</th>\n",
              "      <th>cancellation_policy</th>\n",
              "      <th>require_guest_profile_picture</th>\n",
              "      <th>require_guest_phone_verification</th>\n",
              "      <th>calculated_host_listings_count</th>\n",
              "      <th>calculated_host_listings_count_entire_homes</th>\n",
              "      <th>calculated_host_listings_count_private_rooms</th>\n",
              "      <th>calculated_host_listings_count_shared_rooms</th>\n",
              "      <th>reviews_per_month</th>\n",
              "    </tr>\n",
              "  </thead>\n",
              "  <tbody>\n",
              "    <tr>\n",
              "      <th>0</th>\n",
              "      <td>2078</td>\n",
              "      <td>https://www.airbnb.com/rooms/2078</td>\n",
              "      <td>20200113202958</td>\n",
              "      <td>2020-01-14</td>\n",
              "      <td>Central comfy close to Metro Laurie</td>\n",
              "      <td>Centrally located in trendy Le Plateau.   Join...</td>\n",
              "      <td>Centrally located  clean comfy furnished room ...</td>\n",
              "      <td>Centrally located in trendy Le Plateau.   Join...</td>\n",
              "      <td>none</td>\n",
              "      <td>Although my place is centrally located in Le P...</td>\n",
              "      <td>I always inform my guests the places/attractio...</td>\n",
              "      <td>I am 6-8 mins. walk to Metro Laurie and bus ro...</td>\n",
              "      <td>You will have full access in the apartment.  I...</td>\n",
              "      <td>I am always available to help and give informa...</td>\n",
              "      <td>No house rules but I expect my guests to follo...</td>\n",
              "      <td>NaN</td>\n",
              "      <td>NaN</td>\n",
              "      <td>https://a0.muscache.com/im/pictures/88170231/0...</td>\n",
              "      <td>NaN</td>\n",
              "      <td>2277</td>\n",
              "      <td>https://www.airbnb.com/users/show/2277</td>\n",
              "      <td>Nelia</td>\n",
              "      <td>2008-08-19</td>\n",
              "      <td>Montreal, Québec, Canada</td>\n",
              "      <td>Honest, quiet and adhere to the golden rules a...</td>\n",
              "      <td>within a few hours</td>\n",
              "      <td>100%</td>\n",
              "      <td>NaN</td>\n",
              "      <td>f</td>\n",
              "      <td>https://a0.muscache.com/im/users/2277/profile_...</td>\n",
              "      <td>https://a0.muscache.com/im/users/2277/profile_...</td>\n",
              "      <td>Le Plateau</td>\n",
              "      <td>1.0</td>\n",
              "      <td>1.0</td>\n",
              "      <td>['email', 'phone', 'reviews', 'manual_offline'...</td>\n",
              "      <td>t</td>\n",
              "      <td>t</td>\n",
              "      <td>Montreal, QC, Canada</td>\n",
              "      <td>Le Plateau-Mont-Royal</td>\n",
              "      <td>Le Plateau-Mont-Royal</td>\n",
              "      <td>...</td>\n",
              "      <td>$6.00</td>\n",
              "      <td>2</td>\n",
              "      <td>7</td>\n",
              "      <td>2</td>\n",
              "      <td>2</td>\n",
              "      <td>7</td>\n",
              "      <td>7</td>\n",
              "      <td>2.0</td>\n",
              "      <td>7.0</td>\n",
              "      <td>7 weeks ago</td>\n",
              "      <td>t</td>\n",
              "      <td>0</td>\n",
              "      <td>0</td>\n",
              "      <td>0</td>\n",
              "      <td>226</td>\n",
              "      <td>2020-01-14</td>\n",
              "      <td>245</td>\n",
              "      <td>0</td>\n",
              "      <td>2011-09-06</td>\n",
              "      <td>2018-09-23</td>\n",
              "      <td>93.0</td>\n",
              "      <td>10.0</td>\n",
              "      <td>9.0</td>\n",
              "      <td>10.0</td>\n",
              "      <td>10.0</td>\n",
              "      <td>10.0</td>\n",
              "      <td>10.0</td>\n",
              "      <td>f</td>\n",
              "      <td>NaN</td>\n",
              "      <td>{Quebec,\" CA\"}</td>\n",
              "      <td>t</td>\n",
              "      <td>f</td>\n",
              "      <td>flexible</td>\n",
              "      <td>f</td>\n",
              "      <td>f</td>\n",
              "      <td>1</td>\n",
              "      <td>0</td>\n",
              "      <td>1</td>\n",
              "      <td>0</td>\n",
              "      <td>2.41</td>\n",
              "    </tr>\n",
              "    <tr>\n",
              "      <th>1</th>\n",
              "      <td>2843</td>\n",
              "      <td>https://www.airbnb.com/rooms/2843</td>\n",
              "      <td>20200113202958</td>\n",
              "      <td>2020-01-14</td>\n",
              "      <td>Fabulous downtown/airport room</td>\n",
              "      <td>Come stay in this trendy area of downtown Mont...</td>\n",
              "      <td>Private individual room in the downtown area, ...</td>\n",
              "      <td>Come stay in this trendy area of downtown Mont...</td>\n",
              "      <td>none</td>\n",
              "      <td>This area of St Henri is actually downtown Mon...</td>\n",
              "      <td>From this room you can walk to downtown Montre...</td>\n",
              "      <td>There is a major metro/subway stop called Lion...</td>\n",
              "      <td>The guests can use the kitchen anytime, fully ...</td>\n",
              "      <td>I meet guests when they arrive show them the h...</td>\n",
              "      <td>No smoking and no pets Airport bus stops acros...</td>\n",
              "      <td>NaN</td>\n",
              "      <td>NaN</td>\n",
              "      <td>https://a0.muscache.com/im/pictures/803776/a2a...</td>\n",
              "      <td>NaN</td>\n",
              "      <td>2319</td>\n",
              "      <td>https://www.airbnb.com/users/show/2319</td>\n",
              "      <td>Gail</td>\n",
              "      <td>2008-08-19</td>\n",
              "      <td>Montreal, Québec, Canada</td>\n",
              "      <td>Manage a network of downtown rooms and private...</td>\n",
              "      <td>within an hour</td>\n",
              "      <td>100%</td>\n",
              "      <td>NaN</td>\n",
              "      <td>f</td>\n",
              "      <td>https://a0.muscache.com/im/pictures/user/7c04e...</td>\n",
              "      <td>https://a0.muscache.com/im/pictures/user/7c04e...</td>\n",
              "      <td>Little Burgundy</td>\n",
              "      <td>6.0</td>\n",
              "      <td>6.0</td>\n",
              "      <td>['email', 'phone', 'facebook', 'reviews', 'jum...</td>\n",
              "      <td>t</td>\n",
              "      <td>t</td>\n",
              "      <td>Montréal, Québec, Canada</td>\n",
              "      <td>Le Sud-Ouest</td>\n",
              "      <td>Le Sud-Ouest</td>\n",
              "      <td>...</td>\n",
              "      <td>$10.00</td>\n",
              "      <td>1</td>\n",
              "      <td>365</td>\n",
              "      <td>1</td>\n",
              "      <td>1</td>\n",
              "      <td>365</td>\n",
              "      <td>365</td>\n",
              "      <td>1.0</td>\n",
              "      <td>365.0</td>\n",
              "      <td>3 days ago</td>\n",
              "      <td>t</td>\n",
              "      <td>18</td>\n",
              "      <td>18</td>\n",
              "      <td>18</td>\n",
              "      <td>18</td>\n",
              "      <td>2020-01-14</td>\n",
              "      <td>143</td>\n",
              "      <td>30</td>\n",
              "      <td>2009-06-20</td>\n",
              "      <td>2019-12-30</td>\n",
              "      <td>88.0</td>\n",
              "      <td>9.0</td>\n",
              "      <td>9.0</td>\n",
              "      <td>9.0</td>\n",
              "      <td>9.0</td>\n",
              "      <td>10.0</td>\n",
              "      <td>10.0</td>\n",
              "      <td>f</td>\n",
              "      <td>NaN</td>\n",
              "      <td>{Quebec,\" CA\"}</td>\n",
              "      <td>t</td>\n",
              "      <td>f</td>\n",
              "      <td>moderate</td>\n",
              "      <td>f</td>\n",
              "      <td>f</td>\n",
              "      <td>5</td>\n",
              "      <td>2</td>\n",
              "      <td>3</td>\n",
              "      <td>0</td>\n",
              "      <td>1.11</td>\n",
              "    </tr>\n",
              "    <tr>\n",
              "      <th>2</th>\n",
              "      <td>14584</td>\n",
              "      <td>https://www.airbnb.com/rooms/14584</td>\n",
              "      <td>20200113202958</td>\n",
              "      <td>2020-01-14</td>\n",
              "      <td>Spread Out in 1,200 Square Feet of Luxury in t...</td>\n",
              "      <td>This stylish and spacious loft has modern artw...</td>\n",
              "      <td>It's artistic and tasteful with a modern touch...</td>\n",
              "      <td>This stylish and spacious loft has modern artw...</td>\n",
              "      <td>none</td>\n",
              "      <td>This chic apartment can be found in the Platea...</td>\n",
              "      <td>NaN</td>\n",
              "      <td>NaN</td>\n",
              "      <td>NaN</td>\n",
              "      <td>NaN</td>\n",
              "      <td>NaN</td>\n",
              "      <td>NaN</td>\n",
              "      <td>NaN</td>\n",
              "      <td>https://a0.muscache.com/4ea/air/v2//pictures/0...</td>\n",
              "      <td>NaN</td>\n",
              "      <td>57358</td>\n",
              "      <td>https://www.airbnb.com/users/show/57358</td>\n",
              "      <td>Verona</td>\n",
              "      <td>2009-11-25</td>\n",
              "      <td>Montreal, Québec, Canada</td>\n",
              "      <td>I am a half Filipino/Norwegian painter living ...</td>\n",
              "      <td>within a few hours</td>\n",
              "      <td>100%</td>\n",
              "      <td>NaN</td>\n",
              "      <td>t</td>\n",
              "      <td>https://a0.muscache.com/im/users/57358/profile...</td>\n",
              "      <td>https://a0.muscache.com/im/users/57358/profile...</td>\n",
              "      <td>Le Plateau</td>\n",
              "      <td>1.0</td>\n",
              "      <td>1.0</td>\n",
              "      <td>['email', 'phone', 'facebook', 'reviews', 'man...</td>\n",
              "      <td>t</td>\n",
              "      <td>t</td>\n",
              "      <td>Montreal, QC, Canada</td>\n",
              "      <td>Le Plateau-Mont-Royal</td>\n",
              "      <td>Le Plateau-Mont-Royal</td>\n",
              "      <td>...</td>\n",
              "      <td>$20.00</td>\n",
              "      <td>3</td>\n",
              "      <td>1125</td>\n",
              "      <td>3</td>\n",
              "      <td>3</td>\n",
              "      <td>1125</td>\n",
              "      <td>1125</td>\n",
              "      <td>3.0</td>\n",
              "      <td>1125.0</td>\n",
              "      <td>a week ago</td>\n",
              "      <td>t</td>\n",
              "      <td>28</td>\n",
              "      <td>58</td>\n",
              "      <td>88</td>\n",
              "      <td>363</td>\n",
              "      <td>2020-01-14</td>\n",
              "      <td>171</td>\n",
              "      <td>30</td>\n",
              "      <td>2011-06-06</td>\n",
              "      <td>2019-11-29</td>\n",
              "      <td>98.0</td>\n",
              "      <td>10.0</td>\n",
              "      <td>10.0</td>\n",
              "      <td>10.0</td>\n",
              "      <td>10.0</td>\n",
              "      <td>10.0</td>\n",
              "      <td>10.0</td>\n",
              "      <td>f</td>\n",
              "      <td>NaN</td>\n",
              "      <td>{Quebec,\" CA\"}</td>\n",
              "      <td>f</td>\n",
              "      <td>f</td>\n",
              "      <td>strict_14_with_grace_period</td>\n",
              "      <td>f</td>\n",
              "      <td>f</td>\n",
              "      <td>1</td>\n",
              "      <td>1</td>\n",
              "      <td>0</td>\n",
              "      <td>0</td>\n",
              "      <td>1.63</td>\n",
              "    </tr>\n",
              "  </tbody>\n",
              "</table>\n",
              "<p>3 rows × 106 columns</p>\n",
              "</div>"
            ],
            "text/plain": [
              "      id  ... reviews_per_month\n",
              "0   2078  ...              2.41\n",
              "1   2843  ...              1.11\n",
              "2  14584  ...              1.63\n",
              "\n",
              "[3 rows x 106 columns]"
            ]
          },
          "metadata": {
            "tags": []
          },
          "execution_count": 34
        }
      ]
    },
    {
      "cell_type": "code",
      "metadata": {
        "id": "xIdUP145-JRU",
        "colab_type": "code",
        "outputId": "c5dfb3db-7f99-45f9-bc32-82c9d9d73bca",
        "colab": {
          "base_uri": "https://localhost:8080/",
          "height": 1000
        }
      },
      "source": [
        "listings_detail.info(verbose=True, null_counts=True)"
      ],
      "execution_count": 35,
      "outputs": [
        {
          "output_type": "stream",
          "text": [
            "<class 'pandas.core.frame.DataFrame'>\n",
            "RangeIndex: 20466 entries, 0 to 20465\n",
            "Data columns (total 106 columns):\n",
            " #   Column                                        Non-Null Count  Dtype  \n",
            "---  ------                                        --------------  -----  \n",
            " 0   id                                            20466 non-null  int64  \n",
            " 1   listing_url                                   20466 non-null  object \n",
            " 2   scrape_id                                     20466 non-null  int64  \n",
            " 3   last_scraped                                  20466 non-null  object \n",
            " 4   name                                          20448 non-null  object \n",
            " 5   summary                                       19503 non-null  object \n",
            " 6   space                                         13659 non-null  object \n",
            " 7   description                                   19916 non-null  object \n",
            " 8   experiences_offered                           20466 non-null  object \n",
            " 9   neighborhood_overview                         12631 non-null  object \n",
            " 10  notes                                         7255 non-null   object \n",
            " 11  transit                                       12668 non-null  object \n",
            " 12  access                                        10081 non-null  object \n",
            " 13  interaction                                   11187 non-null  object \n",
            " 14  house_rules                                   11439 non-null  object \n",
            " 15  thumbnail_url                                 0 non-null      float64\n",
            " 16  medium_url                                    0 non-null      float64\n",
            " 17  picture_url                                   20466 non-null  object \n",
            " 18  xl_picture_url                                0 non-null      float64\n",
            " 19  host_id                                       20466 non-null  int64  \n",
            " 20  host_url                                      20466 non-null  object \n",
            " 21  host_name                                     20429 non-null  object \n",
            " 22  host_since                                    20429 non-null  object \n",
            " 23  host_location                                 20408 non-null  object \n",
            " 24  host_about                                    11294 non-null  object \n",
            " 25  host_response_time                            12098 non-null  object \n",
            " 26  host_response_rate                            12098 non-null  object \n",
            " 27  host_acceptance_rate                          0 non-null      float64\n",
            " 28  host_is_superhost                             20429 non-null  object \n",
            " 29  host_thumbnail_url                            20429 non-null  object \n",
            " 30  host_picture_url                              20429 non-null  object \n",
            " 31  host_neighbourhood                            18106 non-null  object \n",
            " 32  host_listings_count                           20429 non-null  float64\n",
            " 33  host_total_listings_count                     20429 non-null  float64\n",
            " 34  host_verifications                            20466 non-null  object \n",
            " 35  host_has_profile_pic                          20429 non-null  object \n",
            " 36  host_identity_verified                        20429 non-null  object \n",
            " 37  street                                        20466 non-null  object \n",
            " 38  neighbourhood                                 20316 non-null  object \n",
            " 39  neighbourhood_cleansed                        20466 non-null  object \n",
            " 40  neighbourhood_group_cleansed                  0 non-null      float64\n",
            " 41  city                                          20460 non-null  object \n",
            " 42  state                                         20376 non-null  object \n",
            " 43  zipcode                                       20160 non-null  object \n",
            " 44  market                                        20406 non-null  object \n",
            " 45  smart_location                                20466 non-null  object \n",
            " 46  country_code                                  20466 non-null  object \n",
            " 47  country                                       20466 non-null  object \n",
            " 48  latitude                                      20466 non-null  float64\n",
            " 49  longitude                                     20466 non-null  float64\n",
            " 50  is_location_exact                             20466 non-null  object \n",
            " 51  property_type                                 20466 non-null  object \n",
            " 52  room_type                                     20466 non-null  object \n",
            " 53  accommodates                                  20466 non-null  int64  \n",
            " 54  bathrooms                                     20438 non-null  float64\n",
            " 55  bedrooms                                      20435 non-null  float64\n",
            " 56  beds                                          20374 non-null  float64\n",
            " 57  bed_type                                      20466 non-null  object \n",
            " 58  amenities                                     20466 non-null  object \n",
            " 59  square_feet                                   247 non-null    float64\n",
            " 60  price                                         20466 non-null  object \n",
            " 61  weekly_price                                  2350 non-null   object \n",
            " 62  monthly_price                                 2030 non-null   object \n",
            " 63  security_deposit                              13528 non-null  object \n",
            " 64  cleaning_fee                                  15593 non-null  object \n",
            " 65  guests_included                               20466 non-null  int64  \n",
            " 66  extra_people                                  20466 non-null  object \n",
            " 67  minimum_nights                                20466 non-null  int64  \n",
            " 68  maximum_nights                                20466 non-null  int64  \n",
            " 69  minimum_minimum_nights                        20466 non-null  int64  \n",
            " 70  maximum_minimum_nights                        20466 non-null  int64  \n",
            " 71  minimum_maximum_nights                        20466 non-null  int64  \n",
            " 72  maximum_maximum_nights                        20466 non-null  int64  \n",
            " 73  minimum_nights_avg_ntm                        20466 non-null  float64\n",
            " 74  maximum_nights_avg_ntm                        20466 non-null  float64\n",
            " 75  calendar_updated                              20466 non-null  object \n",
            " 76  has_availability                              20466 non-null  object \n",
            " 77  availability_30                               20466 non-null  int64  \n",
            " 78  availability_60                               20466 non-null  int64  \n",
            " 79  availability_90                               20466 non-null  int64  \n",
            " 80  availability_365                              20466 non-null  int64  \n",
            " 81  calendar_last_scraped                         20466 non-null  object \n",
            " 82  number_of_reviews                             20466 non-null  int64  \n",
            " 83  number_of_reviews_ltm                         20466 non-null  int64  \n",
            " 84  first_review                                  16499 non-null  object \n",
            " 85  last_review                                   16499 non-null  object \n",
            " 86  review_scores_rating                          16139 non-null  float64\n",
            " 87  review_scores_accuracy                        16126 non-null  float64\n",
            " 88  review_scores_cleanliness                     16126 non-null  float64\n",
            " 89  review_scores_checkin                         16120 non-null  float64\n",
            " 90  review_scores_communication                   16128 non-null  float64\n",
            " 91  review_scores_location                        16117 non-null  float64\n",
            " 92  review_scores_value                           16113 non-null  float64\n",
            " 93  requires_license                              20466 non-null  object \n",
            " 94  license                                       0 non-null      float64\n",
            " 95  jurisdiction_names                            20454 non-null  object \n",
            " 96  instant_bookable                              20466 non-null  object \n",
            " 97  is_business_travel_ready                      20466 non-null  object \n",
            " 98  cancellation_policy                           20466 non-null  object \n",
            " 99  require_guest_profile_picture                 20466 non-null  object \n",
            " 100 require_guest_phone_verification              20466 non-null  object \n",
            " 101 calculated_host_listings_count                20466 non-null  int64  \n",
            " 102 calculated_host_listings_count_entire_homes   20466 non-null  int64  \n",
            " 103 calculated_host_listings_count_private_rooms  20466 non-null  int64  \n",
            " 104 calculated_host_listings_count_shared_rooms   20466 non-null  int64  \n",
            " 105 reviews_per_month                             16499 non-null  float64\n",
            "dtypes: float64(24), int64(21), object(61)\n",
            "memory usage: 16.6+ MB\n"
          ],
          "name": "stdout"
        }
      ]
    },
    {
      "cell_type": "markdown",
      "metadata": {
        "id": "bWuG0EPq_COd",
        "colab_type": "text"
      },
      "source": [
        "# split data into train and test data"
      ]
    },
    {
      "cell_type": "code",
      "metadata": {
        "id": "k-YTC1k1_Bdk",
        "colab_type": "code",
        "colab": {}
      },
      "source": [
        "from sklearn.model_selection import train_test_split\n",
        "data = listings_detail\n",
        "train, test = train_test_split(data, test_size = 0.2, random_state = 42)"
      ],
      "execution_count": 0,
      "outputs": []
    },
    {
      "cell_type": "code",
      "metadata": {
        "id": "5oPqpHG4DnHA",
        "colab_type": "code",
        "outputId": "de2b5c4e-e465-4d51-a529-ce9dbf60f235",
        "colab": {
          "base_uri": "https://localhost:8080/",
          "height": 52
        }
      },
      "source": [
        "print(\"training data size : \", train.shape)\n",
        "print(\"testing data size : \", test.shape)"
      ],
      "execution_count": 37,
      "outputs": [
        {
          "output_type": "stream",
          "text": [
            "training data size :  (16372, 106)\n",
            "testing data size :  (4094, 106)\n"
          ],
          "name": "stdout"
        }
      ]
    },
    {
      "cell_type": "markdown",
      "metadata": {
        "id": "pM-0_IAZ5gdT",
        "colab_type": "text"
      },
      "source": [
        "### select features"
      ]
    },
    {
      "cell_type": "code",
      "metadata": {
        "id": "OoCIzHoR3rNa",
        "colab_type": "code",
        "outputId": "37d59fcf-4e95-4f9b-da6a-5515e9f40ad3",
        "colab": {
          "base_uri": "https://localhost:8080/",
          "height": 216
        }
      },
      "source": [
        "## amenities, need to separate to tokens\n",
        "df_train = train.loc[:, [\"host_response_time\",\n",
        "                               \"host_response_rate\",\n",
        "                               \"host_is_superhost\",\n",
        "                               \"host_identity_verified\",\n",
        "                               \"latitude\",\n",
        "                               \"longitude\",\n",
        "                               \"is_location_exact\",\n",
        "                             \"neighbourhood\",\n",
        "                               \"property_type\",\n",
        "                               \"room_type\",\n",
        "                               \"accommodates\",\n",
        "                               \"bathrooms\",\n",
        "                               \"bedrooms\",\n",
        "                               \"beds\",\n",
        "                               \"bed_type\",\n",
        "                             \"number_of_reviews\",\n",
        "                             \"review_scores_rating\",\n",
        "                               \"price\"]]\n",
        "df_train.head(3)"
      ],
      "execution_count": 38,
      "outputs": [
        {
          "output_type": "execute_result",
          "data": {
            "text/html": [
              "<div>\n",
              "<style scoped>\n",
              "    .dataframe tbody tr th:only-of-type {\n",
              "        vertical-align: middle;\n",
              "    }\n",
              "\n",
              "    .dataframe tbody tr th {\n",
              "        vertical-align: top;\n",
              "    }\n",
              "\n",
              "    .dataframe thead th {\n",
              "        text-align: right;\n",
              "    }\n",
              "</style>\n",
              "<table border=\"1\" class=\"dataframe\">\n",
              "  <thead>\n",
              "    <tr style=\"text-align: right;\">\n",
              "      <th></th>\n",
              "      <th>host_response_time</th>\n",
              "      <th>host_response_rate</th>\n",
              "      <th>host_is_superhost</th>\n",
              "      <th>host_identity_verified</th>\n",
              "      <th>latitude</th>\n",
              "      <th>longitude</th>\n",
              "      <th>is_location_exact</th>\n",
              "      <th>neighbourhood</th>\n",
              "      <th>property_type</th>\n",
              "      <th>room_type</th>\n",
              "      <th>accommodates</th>\n",
              "      <th>bathrooms</th>\n",
              "      <th>bedrooms</th>\n",
              "      <th>beds</th>\n",
              "      <th>bed_type</th>\n",
              "      <th>number_of_reviews</th>\n",
              "      <th>review_scores_rating</th>\n",
              "      <th>price</th>\n",
              "    </tr>\n",
              "  </thead>\n",
              "  <tbody>\n",
              "    <tr>\n",
              "      <th>11640</th>\n",
              "      <td>NaN</td>\n",
              "      <td>NaN</td>\n",
              "      <td>f</td>\n",
              "      <td>t</td>\n",
              "      <td>45.47229</td>\n",
              "      <td>-73.60412</td>\n",
              "      <td>t</td>\n",
              "      <td>Notre-Dame-de-Grace</td>\n",
              "      <td>Townhouse</td>\n",
              "      <td>Private room</td>\n",
              "      <td>2</td>\n",
              "      <td>1.0</td>\n",
              "      <td>2.0</td>\n",
              "      <td>2.0</td>\n",
              "      <td>Real Bed</td>\n",
              "      <td>77</td>\n",
              "      <td>95.0</td>\n",
              "      <td>$64.00</td>\n",
              "    </tr>\n",
              "    <tr>\n",
              "      <th>121</th>\n",
              "      <td>within an hour</td>\n",
              "      <td>100%</td>\n",
              "      <td>f</td>\n",
              "      <td>t</td>\n",
              "      <td>45.52371</td>\n",
              "      <td>-73.68067</td>\n",
              "      <td>t</td>\n",
              "      <td>Saint-Laurent</td>\n",
              "      <td>House</td>\n",
              "      <td>Private room</td>\n",
              "      <td>2</td>\n",
              "      <td>1.0</td>\n",
              "      <td>1.0</td>\n",
              "      <td>1.0</td>\n",
              "      <td>Real Bed</td>\n",
              "      <td>35</td>\n",
              "      <td>92.0</td>\n",
              "      <td>$44.00</td>\n",
              "    </tr>\n",
              "    <tr>\n",
              "      <th>2609</th>\n",
              "      <td>NaN</td>\n",
              "      <td>NaN</td>\n",
              "      <td>f</td>\n",
              "      <td>f</td>\n",
              "      <td>45.52267</td>\n",
              "      <td>-73.57168</td>\n",
              "      <td>t</td>\n",
              "      <td>Le Plateau</td>\n",
              "      <td>Apartment</td>\n",
              "      <td>Entire home/apt</td>\n",
              "      <td>4</td>\n",
              "      <td>1.0</td>\n",
              "      <td>2.0</td>\n",
              "      <td>3.0</td>\n",
              "      <td>Real Bed</td>\n",
              "      <td>3</td>\n",
              "      <td>90.0</td>\n",
              "      <td>$74.00</td>\n",
              "    </tr>\n",
              "  </tbody>\n",
              "</table>\n",
              "</div>"
            ],
            "text/plain": [
              "      host_response_time host_response_rate  ... review_scores_rating   price\n",
              "11640                NaN                NaN  ...                 95.0  $64.00\n",
              "121       within an hour               100%  ...                 92.0  $44.00\n",
              "2609                 NaN                NaN  ...                 90.0  $74.00\n",
              "\n",
              "[3 rows x 18 columns]"
            ]
          },
          "metadata": {
            "tags": []
          },
          "execution_count": 38
        }
      ]
    },
    {
      "cell_type": "code",
      "metadata": {
        "id": "dFq0OvT0YwY4",
        "colab_type": "code",
        "outputId": "a9fa1f90-ba18-4c0d-c1de-fda45cb49a60",
        "colab": {
          "base_uri": "https://localhost:8080/",
          "height": 173
        }
      },
      "source": [
        "df_train.price = pd.to_numeric(df_train.price.str.replace(r\"$\",\"\").str.replace(r\",\",\"\"))\n",
        "df_train.price.describe()"
      ],
      "execution_count": 39,
      "outputs": [
        {
          "output_type": "execute_result",
          "data": {
            "text/plain": [
              "count    16372.000000\n",
              "mean       113.695944\n",
              "std        234.201370\n",
              "min         10.000000\n",
              "25%         50.000000\n",
              "50%         80.000000\n",
              "75%        120.000000\n",
              "max      13294.000000\n",
              "Name: price, dtype: float64"
            ]
          },
          "metadata": {
            "tags": []
          },
          "execution_count": 39
        }
      ]
    },
    {
      "cell_type": "code",
      "metadata": {
        "id": "DmfdPyEobyhE",
        "colab_type": "code",
        "outputId": "c706bdf7-639c-44e1-810a-a890f4768d25",
        "colab": {
          "base_uri": "https://localhost:8080/",
          "height": 296
        }
      },
      "source": [
        "sns.distplot(np.log10(df_train.price))"
      ],
      "execution_count": 40,
      "outputs": [
        {
          "output_type": "execute_result",
          "data": {
            "text/plain": [
              "<matplotlib.axes._subplots.AxesSubplot at 0x7f08f2c0bbe0>"
            ]
          },
          "metadata": {
            "tags": []
          },
          "execution_count": 40
        },
        {
          "output_type": "display_data",
          "data": {
            "image/png": "[encoded data removed]",
            "text/plain": [
              "<Figure size 432x288 with 1 Axes>"
            ]
          },
          "metadata": {
            "tags": [],
            "needs_background": "light"
          }
        }
      ]
    },
    {
      "cell_type": "code",
      "metadata": {
        "id": "cXXYp2RzuwRN",
        "colab_type": "code",
        "outputId": "092f7de7-e485-4b28-a5f3-01d0fc42ee46",
        "colab": {
          "base_uri": "https://localhost:8080/",
          "height": 296
        }
      },
      "source": [
        "## cut outliers to obtain a more normal distribution\n",
        "\n",
        "10**2.7\n",
        "## 500 seems to be a reasonable point to cut outliers\n",
        "sns.distplot(np.log10(df_train.price[df_train.price < 500]))"
      ],
      "execution_count": 41,
      "outputs": [
        {
          "output_type": "execute_result",
          "data": {
            "text/plain": [
              "<matplotlib.axes._subplots.AxesSubplot at 0x7f08f985be80>"
            ]
          },
          "metadata": {
            "tags": []
          },
          "execution_count": 41
        },
        {
          "output_type": "display_data",
          "data": {
            "image/png": "[encoded data removed]",
            "text/plain": [
              "<Figure size 432x288 with 1 Axes>"
            ]
          },
          "metadata": {
            "tags": [],
            "needs_background": "light"
          }
        }
      ]
    },
    {
      "cell_type": "code",
      "metadata": {
        "id": "LZoeM-spcZMH",
        "colab_type": "code",
        "outputId": "849e2979-99be-4fbd-fd43-dd919181fd4d",
        "colab": {
          "base_uri": "https://localhost:8080/",
          "height": 34
        }
      },
      "source": [
        "# check samples with price > 500\n",
        "df_train.loc[df_train.price>500, :].shape"
      ],
      "execution_count": 42,
      "outputs": [
        {
          "output_type": "execute_result",
          "data": {
            "text/plain": [
              "(258, 18)"
            ]
          },
          "metadata": {
            "tags": []
          },
          "execution_count": 42
        }
      ]
    },
    {
      "cell_type": "code",
      "metadata": {
        "id": "xz3VD8fMQMU5",
        "colab_type": "code",
        "outputId": "b622fd4d-b320-4e46-f2cd-26531c27cd9b",
        "colab": {
          "base_uri": "https://localhost:8080/",
          "height": 451
        }
      },
      "source": [
        "df_train.info(verbose = True, null_counts=True)"
      ],
      "execution_count": 43,
      "outputs": [
        {
          "output_type": "stream",
          "text": [
            "<class 'pandas.core.frame.DataFrame'>\n",
            "Int64Index: 16372 entries, 11640 to 15795\n",
            "Data columns (total 18 columns):\n",
            " #   Column                  Non-Null Count  Dtype  \n",
            "---  ------                  --------------  -----  \n",
            " 0   host_response_time      9680 non-null   object \n",
            " 1   host_response_rate      9680 non-null   object \n",
            " 2   host_is_superhost       16340 non-null  object \n",
            " 3   host_identity_verified  16340 non-null  object \n",
            " 4   latitude                16372 non-null  float64\n",
            " 5   longitude               16372 non-null  float64\n",
            " 6   is_location_exact       16372 non-null  object \n",
            " 7   neighbourhood           16251 non-null  object \n",
            " 8   property_type           16372 non-null  object \n",
            " 9   room_type               16372 non-null  object \n",
            " 10  accommodates            16372 non-null  int64  \n",
            " 11  bathrooms               16352 non-null  float64\n",
            " 12  bedrooms                16348 non-null  float64\n",
            " 13  beds                    16303 non-null  float64\n",
            " 14  bed_type                16372 non-null  object \n",
            " 15  number_of_reviews       16372 non-null  int64  \n",
            " 16  review_scores_rating    12853 non-null  float64\n",
            " 17  price                   16372 non-null  float64\n",
            "dtypes: float64(7), int64(2), object(9)\n",
            "memory usage: 2.4+ MB\n"
          ],
          "name": "stdout"
        }
      ]
    },
    {
      "cell_type": "code",
      "metadata": {
        "id": "L0Dfj5DA9q1x",
        "colab_type": "code",
        "outputId": "e0c97c83-fe8b-4fce-a4dd-581e163fda1c",
        "colab": {
          "base_uri": "https://localhost:8080/",
          "height": 173
        }
      },
      "source": [
        "for col in df_train:\n",
        "    if(df_train[col].isnull().any()):\n",
        "        print(col)\n"
      ],
      "execution_count": 44,
      "outputs": [
        {
          "output_type": "stream",
          "text": [
            "host_response_time\n",
            "host_response_rate\n",
            "host_is_superhost\n",
            "host_identity_verified\n",
            "neighbourhood\n",
            "bathrooms\n",
            "bedrooms\n",
            "beds\n",
            "review_scores_rating\n"
          ],
          "name": "stdout"
        }
      ]
    },
    {
      "cell_type": "markdown",
      "metadata": {
        "id": "pjJA1z_tS75-",
        "colab_type": "text"
      },
      "source": [
        "# Select features for linear model\n"
      ]
    },
    {
      "cell_type": "code",
      "metadata": {
        "id": "gSgX5lABSTDD",
        "colab_type": "code",
        "colab": {}
      },
      "source": [
        "# keep only binary features and numeric features\n",
        "\n",
        "# host_is_superhost         20383 non-null object\n",
        "# host_identity_verified    20383 non-null object\n",
        "# latitude                  20420 non-null float64\n",
        "# longitude                 20420 non-null float64\n",
        "# accommodates              20420 non-null int64\n",
        "# bathrooms                 20392 non-null float64\n",
        "# bedrooms                  20389 non-null float64\n",
        "# beds                      20328 non-null float64\n",
        "# number_of_reviews         20466 non-null int64\n",
        "# review_scores_rating      16139 non-null float64\n",
        "# price                     20420 non-null float64\n",
        "\n",
        "# neighbourhood             20316 non-null object\n",
        "# property_type             20466 non-null object\n",
        "# room_type                 20466 non-null object\n",
        "# bed_type                  20466 non-null object\n",
        "\n",
        "df_train = df_train.loc[:,[\"host_is_superhost\",\n",
        "                 \"host_identity_verified\",\n",
        "                 \"latitude\",\n",
        "                 \"longitude\",\n",
        "                 \"accommodates\",\n",
        "                 \"bathrooms\",\n",
        "                 \"bedrooms\",\n",
        "                 \"beds\",\n",
        "                 \"number_of_reviews\",\n",
        "                 \"review_scores_rating\",\n",
        "                 #\"neighbourhood\",\n",
        "                 #\"property_type\",\n",
        "                 \"room_type\",\n",
        "                 \"bed_type\",\n",
        "                 \"price\"]]"
      ],
      "execution_count": 0,
      "outputs": []
    },
    {
      "cell_type": "code",
      "metadata": {
        "id": "LtDYod0mkSl-",
        "colab_type": "code",
        "outputId": "8536106b-fc0b-4c28-bcf1-bc2d64cb4acf",
        "colab": {
          "base_uri": "https://localhost:8080/",
          "height": 175
        }
      },
      "source": [
        "#summary of categoricals\n",
        "df_train.describe(include=['O'])"
      ],
      "execution_count": 46,
      "outputs": [
        {
          "output_type": "execute_result",
          "data": {
            "text/html": [
              "<div>\n",
              "<style scoped>\n",
              "    .dataframe tbody tr th:only-of-type {\n",
              "        vertical-align: middle;\n",
              "    }\n",
              "\n",
              "    .dataframe tbody tr th {\n",
              "        vertical-align: top;\n",
              "    }\n",
              "\n",
              "    .dataframe thead th {\n",
              "        text-align: right;\n",
              "    }\n",
              "</style>\n",
              "<table border=\"1\" class=\"dataframe\">\n",
              "  <thead>\n",
              "    <tr style=\"text-align: right;\">\n",
              "      <th></th>\n",
              "      <th>host_is_superhost</th>\n",
              "      <th>host_identity_verified</th>\n",
              "      <th>room_type</th>\n",
              "      <th>bed_type</th>\n",
              "    </tr>\n",
              "  </thead>\n",
              "  <tbody>\n",
              "    <tr>\n",
              "      <th>count</th>\n",
              "      <td>16340</td>\n",
              "      <td>16340</td>\n",
              "      <td>16372</td>\n",
              "      <td>16372</td>\n",
              "    </tr>\n",
              "    <tr>\n",
              "      <th>unique</th>\n",
              "      <td>2</td>\n",
              "      <td>2</td>\n",
              "      <td>4</td>\n",
              "      <td>5</td>\n",
              "    </tr>\n",
              "    <tr>\n",
              "      <th>top</th>\n",
              "      <td>f</td>\n",
              "      <td>f</td>\n",
              "      <td>Entire home/apt</td>\n",
              "      <td>Real Bed</td>\n",
              "    </tr>\n",
              "    <tr>\n",
              "      <th>freq</th>\n",
              "      <td>13185</td>\n",
              "      <td>10955</td>\n",
              "      <td>11646</td>\n",
              "      <td>16199</td>\n",
              "    </tr>\n",
              "  </tbody>\n",
              "</table>\n",
              "</div>"
            ],
            "text/plain": [
              "       host_is_superhost host_identity_verified        room_type  bed_type\n",
              "count              16340                  16340            16372     16372\n",
              "unique                 2                      2                4         5\n",
              "top                    f                      f  Entire home/apt  Real Bed\n",
              "freq               13185                  10955            11646     16199"
            ]
          },
          "metadata": {
            "tags": []
          },
          "execution_count": 46
        }
      ]
    },
    {
      "cell_type": "code",
      "metadata": {
        "id": "-Z-isYP-kdZk",
        "colab_type": "code",
        "colab": {}
      },
      "source": [
        "# data[['property_type', 'price']].groupby(['property_type'], as_index=False).mean().sort_values(by='price',ascending=False)"
      ],
      "execution_count": 0,
      "outputs": []
    },
    {
      "cell_type": "code",
      "metadata": {
        "id": "5U86Wakhlu_s",
        "colab_type": "code",
        "outputId": "0b3cfff6-0a16-44f4-8b3d-f5a9ab9f5254",
        "colab": {
          "base_uri": "https://localhost:8080/",
          "height": 175
        }
      },
      "source": [
        "df_train[['room_type', 'price']].groupby(['room_type'], as_index=False).mean().sort_values(by='price',ascending=False)"
      ],
      "execution_count": 48,
      "outputs": [
        {
          "output_type": "execute_result",
          "data": {
            "text/html": [
              "<div>\n",
              "<style scoped>\n",
              "    .dataframe tbody tr th:only-of-type {\n",
              "        vertical-align: middle;\n",
              "    }\n",
              "\n",
              "    .dataframe tbody tr th {\n",
              "        vertical-align: top;\n",
              "    }\n",
              "\n",
              "    .dataframe thead th {\n",
              "        text-align: right;\n",
              "    }\n",
              "</style>\n",
              "<table border=\"1\" class=\"dataframe\">\n",
              "  <thead>\n",
              "    <tr style=\"text-align: right;\">\n",
              "      <th></th>\n",
              "      <th>room_type</th>\n",
              "      <th>price</th>\n",
              "    </tr>\n",
              "  </thead>\n",
              "  <tbody>\n",
              "    <tr>\n",
              "      <th>1</th>\n",
              "      <td>Hotel room</td>\n",
              "      <td>149.900000</td>\n",
              "    </tr>\n",
              "    <tr>\n",
              "      <th>0</th>\n",
              "      <td>Entire home/apt</td>\n",
              "      <td>134.767388</td>\n",
              "    </tr>\n",
              "    <tr>\n",
              "      <th>2</th>\n",
              "      <td>Private room</td>\n",
              "      <td>61.057149</td>\n",
              "    </tr>\n",
              "    <tr>\n",
              "      <th>3</th>\n",
              "      <td>Shared room</td>\n",
              "      <td>53.631944</td>\n",
              "    </tr>\n",
              "  </tbody>\n",
              "</table>\n",
              "</div>"
            ],
            "text/plain": [
              "         room_type       price\n",
              "1       Hotel room  149.900000\n",
              "0  Entire home/apt  134.767388\n",
              "2     Private room   61.057149\n",
              "3      Shared room   53.631944"
            ]
          },
          "metadata": {
            "tags": []
          },
          "execution_count": 48
        }
      ]
    },
    {
      "cell_type": "code",
      "metadata": {
        "id": "q0_rcCUDlzXw",
        "colab_type": "code",
        "outputId": "d4a8d61f-19b2-4770-a32e-e0e946cbdcdc",
        "colab": {
          "base_uri": "https://localhost:8080/",
          "height": 206
        }
      },
      "source": [
        "df_train[['bed_type', 'price']].groupby(['bed_type'], as_index=False).mean().sort_values(by='price',ascending=False)"
      ],
      "execution_count": 49,
      "outputs": [
        {
          "output_type": "execute_result",
          "data": {
            "text/html": [
              "<div>\n",
              "<style scoped>\n",
              "    .dataframe tbody tr th:only-of-type {\n",
              "        vertical-align: middle;\n",
              "    }\n",
              "\n",
              "    .dataframe tbody tr th {\n",
              "        vertical-align: top;\n",
              "    }\n",
              "\n",
              "    .dataframe thead th {\n",
              "        text-align: right;\n",
              "    }\n",
              "</style>\n",
              "<table border=\"1\" class=\"dataframe\">\n",
              "  <thead>\n",
              "    <tr style=\"text-align: right;\">\n",
              "      <th></th>\n",
              "      <th>bed_type</th>\n",
              "      <th>price</th>\n",
              "    </tr>\n",
              "  </thead>\n",
              "  <tbody>\n",
              "    <tr>\n",
              "      <th>1</th>\n",
              "      <td>Couch</td>\n",
              "      <td>114.529412</td>\n",
              "    </tr>\n",
              "    <tr>\n",
              "      <th>4</th>\n",
              "      <td>Real Bed</td>\n",
              "      <td>114.154207</td>\n",
              "    </tr>\n",
              "    <tr>\n",
              "      <th>0</th>\n",
              "      <td>Airbed</td>\n",
              "      <td>102.000000</td>\n",
              "    </tr>\n",
              "    <tr>\n",
              "      <th>3</th>\n",
              "      <td>Pull-out Sofa</td>\n",
              "      <td>67.090909</td>\n",
              "    </tr>\n",
              "    <tr>\n",
              "      <th>2</th>\n",
              "      <td>Futon</td>\n",
              "      <td>63.531250</td>\n",
              "    </tr>\n",
              "  </tbody>\n",
              "</table>\n",
              "</div>"
            ],
            "text/plain": [
              "        bed_type       price\n",
              "1          Couch  114.529412\n",
              "4       Real Bed  114.154207\n",
              "0         Airbed  102.000000\n",
              "3  Pull-out Sofa   67.090909\n",
              "2          Futon   63.531250"
            ]
          },
          "metadata": {
            "tags": []
          },
          "execution_count": 49
        }
      ]
    },
    {
      "cell_type": "code",
      "metadata": {
        "id": "_Ixk_ugTlNXu",
        "colab_type": "code",
        "colab": {}
      },
      "source": [
        "# data[['neighbourhood', 'price']].groupby(['neighbourhood'], as_index=False).mean().sort_values(by='price',ascending=False)"
      ],
      "execution_count": 0,
      "outputs": []
    },
    {
      "cell_type": "markdown",
      "metadata": {
        "id": "ZS48ZAc8UzvR",
        "colab_type": "text"
      },
      "source": [
        "### deal with missing value and non-numeric values"
      ]
    },
    {
      "cell_type": "code",
      "metadata": {
        "id": "H7RWZYyBUzMn",
        "colab_type": "code",
        "outputId": "e01c944b-0389-44d0-9f0e-d7b5ae6d753d",
        "colab": {
          "base_uri": "https://localhost:8080/",
          "height": 0
        }
      },
      "source": [
        "df_train.fillna(0, inplace=True) \n",
        "df_train = df_train.replace(\"f\", 0).replace(\"t\", 1)\n",
        "df_train.head()"
      ],
      "execution_count": 51,
      "outputs": [
        {
          "output_type": "execute_result",
          "data": {
            "text/html": [
              "<div>\n",
              "<style scoped>\n",
              "    .dataframe tbody tr th:only-of-type {\n",
              "        vertical-align: middle;\n",
              "    }\n",
              "\n",
              "    .dataframe tbody tr th {\n",
              "        vertical-align: top;\n",
              "    }\n",
              "\n",
              "    .dataframe thead th {\n",
              "        text-align: right;\n",
              "    }\n",
              "</style>\n",
              "<table border=\"1\" class=\"dataframe\">\n",
              "  <thead>\n",
              "    <tr style=\"text-align: right;\">\n",
              "      <th></th>\n",
              "      <th>host_is_superhost</th>\n",
              "      <th>host_identity_verified</th>\n",
              "      <th>latitude</th>\n",
              "      <th>longitude</th>\n",
              "      <th>accommodates</th>\n",
              "      <th>bathrooms</th>\n",
              "      <th>bedrooms</th>\n",
              "      <th>beds</th>\n",
              "      <th>number_of_reviews</th>\n",
              "      <th>review_scores_rating</th>\n",
              "      <th>room_type</th>\n",
              "      <th>bed_type</th>\n",
              "      <th>price</th>\n",
              "    </tr>\n",
              "  </thead>\n",
              "  <tbody>\n",
              "    <tr>\n",
              "      <th>11640</th>\n",
              "      <td>0</td>\n",
              "      <td>1</td>\n",
              "      <td>45.47229</td>\n",
              "      <td>-73.60412</td>\n",
              "      <td>2</td>\n",
              "      <td>1.0</td>\n",
              "      <td>2.0</td>\n",
              "      <td>2.0</td>\n",
              "      <td>77</td>\n",
              "      <td>95.0</td>\n",
              "      <td>Private room</td>\n",
              "      <td>Real Bed</td>\n",
              "      <td>64.0</td>\n",
              "    </tr>\n",
              "    <tr>\n",
              "      <th>121</th>\n",
              "      <td>0</td>\n",
              "      <td>1</td>\n",
              "      <td>45.52371</td>\n",
              "      <td>-73.68067</td>\n",
              "      <td>2</td>\n",
              "      <td>1.0</td>\n",
              "      <td>1.0</td>\n",
              "      <td>1.0</td>\n",
              "      <td>35</td>\n",
              "      <td>92.0</td>\n",
              "      <td>Private room</td>\n",
              "      <td>Real Bed</td>\n",
              "      <td>44.0</td>\n",
              "    </tr>\n",
              "    <tr>\n",
              "      <th>2609</th>\n",
              "      <td>0</td>\n",
              "      <td>0</td>\n",
              "      <td>45.52267</td>\n",
              "      <td>-73.57168</td>\n",
              "      <td>4</td>\n",
              "      <td>1.0</td>\n",
              "      <td>2.0</td>\n",
              "      <td>3.0</td>\n",
              "      <td>3</td>\n",
              "      <td>90.0</td>\n",
              "      <td>Entire home/apt</td>\n",
              "      <td>Real Bed</td>\n",
              "      <td>74.0</td>\n",
              "    </tr>\n",
              "    <tr>\n",
              "      <th>19615</th>\n",
              "      <td>0</td>\n",
              "      <td>0</td>\n",
              "      <td>45.53227</td>\n",
              "      <td>-73.64180</td>\n",
              "      <td>2</td>\n",
              "      <td>1.0</td>\n",
              "      <td>1.0</td>\n",
              "      <td>1.0</td>\n",
              "      <td>1</td>\n",
              "      <td>0.0</td>\n",
              "      <td>Private room</td>\n",
              "      <td>Real Bed</td>\n",
              "      <td>26.0</td>\n",
              "    </tr>\n",
              "    <tr>\n",
              "      <th>12579</th>\n",
              "      <td>0</td>\n",
              "      <td>0</td>\n",
              "      <td>45.61096</td>\n",
              "      <td>-73.51795</td>\n",
              "      <td>2</td>\n",
              "      <td>1.0</td>\n",
              "      <td>1.0</td>\n",
              "      <td>1.0</td>\n",
              "      <td>19</td>\n",
              "      <td>97.0</td>\n",
              "      <td>Entire home/apt</td>\n",
              "      <td>Real Bed</td>\n",
              "      <td>90.0</td>\n",
              "    </tr>\n",
              "  </tbody>\n",
              "</table>\n",
              "</div>"
            ],
            "text/plain": [
              "       host_is_superhost  host_identity_verified  ...  bed_type  price\n",
              "11640                  0                       1  ...  Real Bed   64.0\n",
              "121                    0                       1  ...  Real Bed   44.0\n",
              "2609                   0                       0  ...  Real Bed   74.0\n",
              "19615                  0                       0  ...  Real Bed   26.0\n",
              "12579                  0                       0  ...  Real Bed   90.0\n",
              "\n",
              "[5 rows x 13 columns]"
            ]
          },
          "metadata": {
            "tags": []
          },
          "execution_count": 51
        }
      ]
    },
    {
      "cell_type": "code",
      "metadata": {
        "id": "fIL5LMFWmbip",
        "colab_type": "code",
        "outputId": "ee98d6aa-57e3-4c1f-9a78-299fcbe40e51",
        "colab": {
          "base_uri": "https://localhost:8080/",
          "height": 0
        }
      },
      "source": [
        "#use one-hot-encoding \n",
        "categorical=['room_type','bed_type']\n",
        "data_model=pd.get_dummies(df_train, columns=categorical)\n",
        "data_model.head(5)\n",
        "# data_model.info()"
      ],
      "execution_count": 52,
      "outputs": [
        {
          "output_type": "execute_result",
          "data": {
            "text/html": [
              "<div>\n",
              "<style scoped>\n",
              "    .dataframe tbody tr th:only-of-type {\n",
              "        vertical-align: middle;\n",
              "    }\n",
              "\n",
              "    .dataframe tbody tr th {\n",
              "        vertical-align: top;\n",
              "    }\n",
              "\n",
              "    .dataframe thead th {\n",
              "        text-align: right;\n",
              "    }\n",
              "</style>\n",
              "<table border=\"1\" class=\"dataframe\">\n",
              "  <thead>\n",
              "    <tr style=\"text-align: right;\">\n",
              "      <th></th>\n",
              "      <th>host_is_superhost</th>\n",
              "      <th>host_identity_verified</th>\n",
              "      <th>latitude</th>\n",
              "      <th>longitude</th>\n",
              "      <th>accommodates</th>\n",
              "      <th>bathrooms</th>\n",
              "      <th>bedrooms</th>\n",
              "      <th>beds</th>\n",
              "      <th>number_of_reviews</th>\n",
              "      <th>review_scores_rating</th>\n",
              "      <th>price</th>\n",
              "      <th>room_type_Entire home/apt</th>\n",
              "      <th>room_type_Hotel room</th>\n",
              "      <th>room_type_Private room</th>\n",
              "      <th>room_type_Shared room</th>\n",
              "      <th>bed_type_Airbed</th>\n",
              "      <th>bed_type_Couch</th>\n",
              "      <th>bed_type_Futon</th>\n",
              "      <th>bed_type_Pull-out Sofa</th>\n",
              "      <th>bed_type_Real Bed</th>\n",
              "    </tr>\n",
              "  </thead>\n",
              "  <tbody>\n",
              "    <tr>\n",
              "      <th>11640</th>\n",
              "      <td>0</td>\n",
              "      <td>1</td>\n",
              "      <td>45.47229</td>\n",
              "      <td>-73.60412</td>\n",
              "      <td>2</td>\n",
              "      <td>1.0</td>\n",
              "      <td>2.0</td>\n",
              "      <td>2.0</td>\n",
              "      <td>77</td>\n",
              "      <td>95.0</td>\n",
              "      <td>64.0</td>\n",
              "      <td>0</td>\n",
              "      <td>0</td>\n",
              "      <td>1</td>\n",
              "      <td>0</td>\n",
              "      <td>0</td>\n",
              "      <td>0</td>\n",
              "      <td>0</td>\n",
              "      <td>0</td>\n",
              "      <td>1</td>\n",
              "    </tr>\n",
              "    <tr>\n",
              "      <th>121</th>\n",
              "      <td>0</td>\n",
              "      <td>1</td>\n",
              "      <td>45.52371</td>\n",
              "      <td>-73.68067</td>\n",
              "      <td>2</td>\n",
              "      <td>1.0</td>\n",
              "      <td>1.0</td>\n",
              "      <td>1.0</td>\n",
              "      <td>35</td>\n",
              "      <td>92.0</td>\n",
              "      <td>44.0</td>\n",
              "      <td>0</td>\n",
              "      <td>0</td>\n",
              "      <td>1</td>\n",
              "      <td>0</td>\n",
              "      <td>0</td>\n",
              "      <td>0</td>\n",
              "      <td>0</td>\n",
              "      <td>0</td>\n",
              "      <td>1</td>\n",
              "    </tr>\n",
              "    <tr>\n",
              "      <th>2609</th>\n",
              "      <td>0</td>\n",
              "      <td>0</td>\n",
              "      <td>45.52267</td>\n",
              "      <td>-73.57168</td>\n",
              "      <td>4</td>\n",
              "      <td>1.0</td>\n",
              "      <td>2.0</td>\n",
              "      <td>3.0</td>\n",
              "      <td>3</td>\n",
              "      <td>90.0</td>\n",
              "      <td>74.0</td>\n",
              "      <td>1</td>\n",
              "      <td>0</td>\n",
              "      <td>0</td>\n",
              "      <td>0</td>\n",
              "      <td>0</td>\n",
              "      <td>0</td>\n",
              "      <td>0</td>\n",
              "      <td>0</td>\n",
              "      <td>1</td>\n",
              "    </tr>\n",
              "    <tr>\n",
              "      <th>19615</th>\n",
              "      <td>0</td>\n",
              "      <td>0</td>\n",
              "      <td>45.53227</td>\n",
              "      <td>-73.64180</td>\n",
              "      <td>2</td>\n",
              "      <td>1.0</td>\n",
              "      <td>1.0</td>\n",
              "      <td>1.0</td>\n",
              "      <td>1</td>\n",
              "      <td>0.0</td>\n",
              "      <td>26.0</td>\n",
              "      <td>0</td>\n",
              "      <td>0</td>\n",
              "      <td>1</td>\n",
              "      <td>0</td>\n",
              "      <td>0</td>\n",
              "      <td>0</td>\n",
              "      <td>0</td>\n",
              "      <td>0</td>\n",
              "      <td>1</td>\n",
              "    </tr>\n",
              "    <tr>\n",
              "      <th>12579</th>\n",
              "      <td>0</td>\n",
              "      <td>0</td>\n",
              "      <td>45.61096</td>\n",
              "      <td>-73.51795</td>\n",
              "      <td>2</td>\n",
              "      <td>1.0</td>\n",
              "      <td>1.0</td>\n",
              "      <td>1.0</td>\n",
              "      <td>19</td>\n",
              "      <td>97.0</td>\n",
              "      <td>90.0</td>\n",
              "      <td>1</td>\n",
              "      <td>0</td>\n",
              "      <td>0</td>\n",
              "      <td>0</td>\n",
              "      <td>0</td>\n",
              "      <td>0</td>\n",
              "      <td>0</td>\n",
              "      <td>0</td>\n",
              "      <td>1</td>\n",
              "    </tr>\n",
              "  </tbody>\n",
              "</table>\n",
              "</div>"
            ],
            "text/plain": [
              "       host_is_superhost  ...  bed_type_Real Bed\n",
              "11640                  0  ...                  1\n",
              "121                    0  ...                  1\n",
              "2609                   0  ...                  1\n",
              "19615                  0  ...                  1\n",
              "12579                  0  ...                  1\n",
              "\n",
              "[5 rows x 20 columns]"
            ]
          },
          "metadata": {
            "tags": []
          },
          "execution_count": 52
        }
      ]
    },
    {
      "cell_type": "code",
      "metadata": {
        "id": "sC9k_QCenlo7",
        "colab_type": "code",
        "outputId": "d98e7eba-c139-4d8a-9694-268580f89a36",
        "colab": {
          "base_uri": "https://localhost:8080/",
          "height": 0
        }
      },
      "source": [
        "data_model.info()"
      ],
      "execution_count": 53,
      "outputs": [
        {
          "output_type": "stream",
          "text": [
            "<class 'pandas.core.frame.DataFrame'>\n",
            "Int64Index: 16372 entries, 11640 to 15795\n",
            "Data columns (total 20 columns):\n",
            " #   Column                     Non-Null Count  Dtype  \n",
            "---  ------                     --------------  -----  \n",
            " 0   host_is_superhost          16372 non-null  int64  \n",
            " 1   host_identity_verified     16372 non-null  int64  \n",
            " 2   latitude                   16372 non-null  float64\n",
            " 3   longitude                  16372 non-null  float64\n",
            " 4   accommodates               16372 non-null  int64  \n",
            " 5   bathrooms                  16372 non-null  float64\n",
            " 6   bedrooms                   16372 non-null  float64\n",
            " 7   beds                       16372 non-null  float64\n",
            " 8   number_of_reviews          16372 non-null  int64  \n",
            " 9   review_scores_rating       16372 non-null  float64\n",
            " 10  price                      16372 non-null  float64\n",
            " 11  room_type_Entire home/apt  16372 non-null  uint8  \n",
            " 12  room_type_Hotel room       16372 non-null  uint8  \n",
            " 13  room_type_Private room     16372 non-null  uint8  \n",
            " 14  room_type_Shared room      16372 non-null  uint8  \n",
            " 15  bed_type_Airbed            16372 non-null  uint8  \n",
            " 16  bed_type_Couch             16372 non-null  uint8  \n",
            " 17  bed_type_Futon             16372 non-null  uint8  \n",
            " 18  bed_type_Pull-out Sofa     16372 non-null  uint8  \n",
            " 19  bed_type_Real Bed          16372 non-null  uint8  \n",
            "dtypes: float64(7), int64(4), uint8(9)\n",
            "memory usage: 1.6 MB\n"
          ],
          "name": "stdout"
        }
      ]
    },
    {
      "cell_type": "code",
      "metadata": {
        "id": "ohFXdaOGqUK_",
        "colab_type": "code",
        "outputId": "67e13649-f92b-45ea-e922-988413f3cc50",
        "colab": {
          "base_uri": "https://localhost:8080/",
          "height": 0
        }
      },
      "source": [
        "data_model = data_model.loc[df_train.price <= 500, :]\n",
        "data_model.describe()"
      ],
      "execution_count": 54,
      "outputs": [
        {
          "output_type": "execute_result",
          "data": {
            "text/html": [
              "<div>\n",
              "<style scoped>\n",
              "    .dataframe tbody tr th:only-of-type {\n",
              "        vertical-align: middle;\n",
              "    }\n",
              "\n",
              "    .dataframe tbody tr th {\n",
              "        vertical-align: top;\n",
              "    }\n",
              "\n",
              "    .dataframe thead th {\n",
              "        text-align: right;\n",
              "    }\n",
              "</style>\n",
              "<table border=\"1\" class=\"dataframe\">\n",
              "  <thead>\n",
              "    <tr style=\"text-align: right;\">\n",
              "      <th></th>\n",
              "      <th>host_is_superhost</th>\n",
              "      <th>host_identity_verified</th>\n",
              "      <th>latitude</th>\n",
              "      <th>longitude</th>\n",
              "      <th>accommodates</th>\n",
              "      <th>bathrooms</th>\n",
              "      <th>bedrooms</th>\n",
              "      <th>beds</th>\n",
              "      <th>number_of_reviews</th>\n",
              "      <th>review_scores_rating</th>\n",
              "      <th>price</th>\n",
              "      <th>room_type_Entire home/apt</th>\n",
              "      <th>room_type_Hotel room</th>\n",
              "      <th>room_type_Private room</th>\n",
              "      <th>room_type_Shared room</th>\n",
              "      <th>bed_type_Airbed</th>\n",
              "      <th>bed_type_Couch</th>\n",
              "      <th>bed_type_Futon</th>\n",
              "      <th>bed_type_Pull-out Sofa</th>\n",
              "      <th>bed_type_Real Bed</th>\n",
              "    </tr>\n",
              "  </thead>\n",
              "  <tbody>\n",
              "    <tr>\n",
              "      <th>count</th>\n",
              "      <td>16114.000000</td>\n",
              "      <td>16114.000000</td>\n",
              "      <td>16114.000000</td>\n",
              "      <td>16114.000000</td>\n",
              "      <td>16114.000000</td>\n",
              "      <td>16114.000000</td>\n",
              "      <td>16114.000000</td>\n",
              "      <td>16114.000000</td>\n",
              "      <td>16114.000000</td>\n",
              "      <td>16114.000000</td>\n",
              "      <td>16114.000000</td>\n",
              "      <td>16114.000000</td>\n",
              "      <td>16114.000000</td>\n",
              "      <td>16114.000000</td>\n",
              "      <td>16114.000000</td>\n",
              "      <td>16114.000000</td>\n",
              "      <td>16114.000000</td>\n",
              "      <td>16114.000000</td>\n",
              "      <td>16114.000000</td>\n",
              "      <td>16114.000000</td>\n",
              "    </tr>\n",
              "    <tr>\n",
              "      <th>mean</th>\n",
              "      <td>0.191883</td>\n",
              "      <td>0.329651</td>\n",
              "      <td>45.515991</td>\n",
              "      <td>-73.589276</td>\n",
              "      <td>3.438190</td>\n",
              "      <td>1.132245</td>\n",
              "      <td>1.378615</td>\n",
              "      <td>1.764304</td>\n",
              "      <td>23.238737</td>\n",
              "      <td>73.715403</td>\n",
              "      <td>96.375388</td>\n",
              "      <td>0.708390</td>\n",
              "      <td>0.003103</td>\n",
              "      <td>0.279757</td>\n",
              "      <td>0.008750</td>\n",
              "      <td>0.000310</td>\n",
              "      <td>0.000993</td>\n",
              "      <td>0.005958</td>\n",
              "      <td>0.003413</td>\n",
              "      <td>0.989326</td>\n",
              "    </tr>\n",
              "    <tr>\n",
              "      <th>std</th>\n",
              "      <td>0.393794</td>\n",
              "      <td>0.470101</td>\n",
              "      <td>0.031533</td>\n",
              "      <td>0.042390</td>\n",
              "      <td>2.211676</td>\n",
              "      <td>0.462232</td>\n",
              "      <td>0.972695</td>\n",
              "      <td>1.278333</td>\n",
              "      <td>45.660329</td>\n",
              "      <td>39.018477</td>\n",
              "      <td>73.956937</td>\n",
              "      <td>0.454518</td>\n",
              "      <td>0.055619</td>\n",
              "      <td>0.448894</td>\n",
              "      <td>0.093135</td>\n",
              "      <td>0.017613</td>\n",
              "      <td>0.031496</td>\n",
              "      <td>0.076957</td>\n",
              "      <td>0.058324</td>\n",
              "      <td>0.102765</td>\n",
              "    </tr>\n",
              "    <tr>\n",
              "      <th>min</th>\n",
              "      <td>0.000000</td>\n",
              "      <td>0.000000</td>\n",
              "      <td>45.404540</td>\n",
              "      <td>-73.964380</td>\n",
              "      <td>1.000000</td>\n",
              "      <td>0.000000</td>\n",
              "      <td>0.000000</td>\n",
              "      <td>0.000000</td>\n",
              "      <td>0.000000</td>\n",
              "      <td>0.000000</td>\n",
              "      <td>10.000000</td>\n",
              "      <td>0.000000</td>\n",
              "      <td>0.000000</td>\n",
              "      <td>0.000000</td>\n",
              "      <td>0.000000</td>\n",
              "      <td>0.000000</td>\n",
              "      <td>0.000000</td>\n",
              "      <td>0.000000</td>\n",
              "      <td>0.000000</td>\n",
              "      <td>0.000000</td>\n",
              "    </tr>\n",
              "    <tr>\n",
              "      <th>25%</th>\n",
              "      <td>0.000000</td>\n",
              "      <td>0.000000</td>\n",
              "      <td>45.497312</td>\n",
              "      <td>-73.603440</td>\n",
              "      <td>2.000000</td>\n",
              "      <td>1.000000</td>\n",
              "      <td>1.000000</td>\n",
              "      <td>1.000000</td>\n",
              "      <td>1.000000</td>\n",
              "      <td>80.000000</td>\n",
              "      <td>50.000000</td>\n",
              "      <td>0.000000</td>\n",
              "      <td>0.000000</td>\n",
              "      <td>0.000000</td>\n",
              "      <td>0.000000</td>\n",
              "      <td>0.000000</td>\n",
              "      <td>0.000000</td>\n",
              "      <td>0.000000</td>\n",
              "      <td>0.000000</td>\n",
              "      <td>1.000000</td>\n",
              "    </tr>\n",
              "    <tr>\n",
              "      <th>50%</th>\n",
              "      <td>0.000000</td>\n",
              "      <td>0.000000</td>\n",
              "      <td>45.519310</td>\n",
              "      <td>-73.579750</td>\n",
              "      <td>3.000000</td>\n",
              "      <td>1.000000</td>\n",
              "      <td>1.000000</td>\n",
              "      <td>1.000000</td>\n",
              "      <td>6.000000</td>\n",
              "      <td>94.000000</td>\n",
              "      <td>78.000000</td>\n",
              "      <td>1.000000</td>\n",
              "      <td>0.000000</td>\n",
              "      <td>0.000000</td>\n",
              "      <td>0.000000</td>\n",
              "      <td>0.000000</td>\n",
              "      <td>0.000000</td>\n",
              "      <td>0.000000</td>\n",
              "      <td>0.000000</td>\n",
              "      <td>1.000000</td>\n",
              "    </tr>\n",
              "    <tr>\n",
              "      <th>75%</th>\n",
              "      <td>0.000000</td>\n",
              "      <td>1.000000</td>\n",
              "      <td>45.534120</td>\n",
              "      <td>-73.565980</td>\n",
              "      <td>4.000000</td>\n",
              "      <td>1.000000</td>\n",
              "      <td>2.000000</td>\n",
              "      <td>2.000000</td>\n",
              "      <td>23.000000</td>\n",
              "      <td>99.000000</td>\n",
              "      <td>119.000000</td>\n",
              "      <td>1.000000</td>\n",
              "      <td>0.000000</td>\n",
              "      <td>1.000000</td>\n",
              "      <td>0.000000</td>\n",
              "      <td>0.000000</td>\n",
              "      <td>0.000000</td>\n",
              "      <td>0.000000</td>\n",
              "      <td>0.000000</td>\n",
              "      <td>1.000000</td>\n",
              "    </tr>\n",
              "    <tr>\n",
              "      <th>max</th>\n",
              "      <td>1.000000</td>\n",
              "      <td>1.000000</td>\n",
              "      <td>45.698360</td>\n",
              "      <td>-73.481890</td>\n",
              "      <td>18.000000</td>\n",
              "      <td>20.000000</td>\n",
              "      <td>20.000000</td>\n",
              "      <td>20.000000</td>\n",
              "      <td>676.000000</td>\n",
              "      <td>100.000000</td>\n",
              "      <td>500.000000</td>\n",
              "      <td>1.000000</td>\n",
              "      <td>1.000000</td>\n",
              "      <td>1.000000</td>\n",
              "      <td>1.000000</td>\n",
              "      <td>1.000000</td>\n",
              "      <td>1.000000</td>\n",
              "      <td>1.000000</td>\n",
              "      <td>1.000000</td>\n",
              "      <td>1.000000</td>\n",
              "    </tr>\n",
              "  </tbody>\n",
              "</table>\n",
              "</div>"
            ],
            "text/plain": [
              "       host_is_superhost  ...  bed_type_Real Bed\n",
              "count       16114.000000  ...       16114.000000\n",
              "mean            0.191883  ...           0.989326\n",
              "std             0.393794  ...           0.102765\n",
              "min             0.000000  ...           0.000000\n",
              "25%             0.000000  ...           1.000000\n",
              "50%             0.000000  ...           1.000000\n",
              "75%             0.000000  ...           1.000000\n",
              "max             1.000000  ...           1.000000\n",
              "\n",
              "[8 rows x 20 columns]"
            ]
          },
          "metadata": {
            "tags": []
          },
          "execution_count": 54
        }
      ]
    },
    {
      "cell_type": "markdown",
      "metadata": {
        "id": "8YhbKXwep4mu",
        "colab_type": "text"
      },
      "source": [
        "# normalize data"
      ]
    },
    {
      "cell_type": "code",
      "metadata": {
        "id": "YHhZEy-1p7Dz",
        "colab_type": "code",
        "colab": {}
      },
      "source": [
        "# from sklearn import preprocessing\n",
        "# min_max_scaler = preprocessing.MinMaxScaler()\n",
        "\n",
        "features = data_model.columns[data_model.columns != \"price\"]\n",
        "\n",
        "X = data_model.loc[:,features]\n",
        "Y = data_model[\"price\"]\n",
        "\n",
        "# X_scaled = min_max_scaler.fit_transform(X)\n",
        "# X_scaled = pd.DataFrame(X_scaled)\n",
        "# X_scaled.columns = features\n",
        "# X_scaled.describe()"
      ],
      "execution_count": 0,
      "outputs": []
    },
    {
      "cell_type": "markdown",
      "metadata": {
        "id": "MDuy7t7rY4O9",
        "colab_type": "text"
      },
      "source": [
        "## Linear regression"
      ]
    },
    {
      "cell_type": "code",
      "metadata": {
        "id": "jvkCnIXFLOPe",
        "colab_type": "code",
        "colab": {}
      },
      "source": [
        "## split data into training and validation sets\n",
        "X_train, X_val, y_train, y_val = train_test_split(X, Y, test_size=0.2, random_state=42)"
      ],
      "execution_count": 0,
      "outputs": []
    },
    {
      "cell_type": "code",
      "metadata": {
        "id": "txLvU56MUt4t",
        "colab_type": "code",
        "colab": {}
      },
      "source": [
        "from sklearn.linear_model import LinearRegression\n",
        "reg = LinearRegression().fit(X_train, y_train)"
      ],
      "execution_count": 0,
      "outputs": []
    },
    {
      "cell_type": "code",
      "metadata": {
        "id": "_6OtntkTan1f",
        "colab_type": "code",
        "outputId": "61d8343c-ec0b-4c11-9ad7-4b481c7b7e07",
        "colab": {
          "base_uri": "https://localhost:8080/",
          "height": 34
        }
      },
      "source": [
        "# R^2\n",
        "reg.score(X_train, y_train)"
      ],
      "execution_count": 100,
      "outputs": [
        {
          "output_type": "execute_result",
          "data": {
            "text/plain": [
              "0.36631855589998774"
            ]
          },
          "metadata": {
            "tags": []
          },
          "execution_count": 100
        }
      ]
    },
    {
      "cell_type": "code",
      "metadata": {
        "colab_type": "code",
        "id": "Wq0gTKvPfkXO",
        "outputId": "4b9cbe6f-6865-4b9e-90dc-a3c008902bda",
        "colab": {
          "base_uri": "https://localhost:8080/",
          "height": 34
        }
      },
      "source": [
        "# predict on testing data  ## normally this is not the right way to verify\n",
        "from sklearn.metrics import mean_squared_error\n",
        "y_pred = reg.predict(X_val)\n",
        "print(\"MSE_price : \", mean_squared_error(y_val, y_pred), sep=\"\")"
      ],
      "execution_count": 101,
      "outputs": [
        {
          "output_type": "stream",
          "text": [
            "MSE_price : 3652.8730162380916\n"
          ],
          "name": "stdout"
        }
      ]
    },
    {
      "cell_type": "code",
      "metadata": {
        "id": "FYaduj4gdMRg",
        "colab_type": "code",
        "outputId": "54ce2e4c-52f0-4ad7-f9ba-65571a11fdac",
        "colab": {
          "base_uri": "https://localhost:8080/",
          "height": 296
        }
      },
      "source": [
        "sns.regplot(x=y_val,y=y_pred,fit_reg=True)"
      ],
      "execution_count": 102,
      "outputs": [
        {
          "output_type": "execute_result",
          "data": {
            "text/plain": [
              "<matplotlib.axes._subplots.AxesSubplot at 0x7f08f119cc88>"
            ]
          },
          "metadata": {
            "tags": []
          },
          "execution_count": 102
        },
        {
          "output_type": "display_data",
          "data": {
            "image/png": "[encoded data removed]",
            "text/plain": [
              "<Figure size 432x288 with 1 Axes>"
            ]
          },
          "metadata": {
            "tags": [],
            "needs_background": "light"
          }
        }
      ]
    },
    {
      "cell_type": "code",
      "metadata": {
        "id": "qkngs1TCdbE6",
        "colab_type": "code",
        "outputId": "5eecc6a8-e518-4961-c280-e0a15b93608b",
        "colab": {
          "base_uri": "https://localhost:8080/",
          "height": 421
        }
      },
      "source": [
        "err= np.abs(y_pred - y_val)\n",
        "print(err.describe())\n",
        "\n",
        "plt.hist(err, bins = 100)\n",
        "plt.show()"
      ],
      "execution_count": 103,
      "outputs": [
        {
          "output_type": "stream",
          "text": [
            "count    3223.000000\n",
            "mean       38.048871\n",
            "std        46.966380\n",
            "min         0.015528\n",
            "25%        11.860443\n",
            "50%        25.103414\n",
            "75%        45.839200\n",
            "max       431.855659\n",
            "Name: price, dtype: float64\n"
          ],
          "name": "stdout"
        },
        {
          "output_type": "display_data",
          "data": {
            "image/png": "[encoded data removed]",
            "text/plain": [
              "<Figure size 432x288 with 1 Axes>"
            ]
          },
          "metadata": {
            "tags": [],
            "needs_background": "light"
          }
        }
      ]
    },
    {
      "cell_type": "code",
      "metadata": {
        "id": "yziHlC2TsXFS",
        "colab_type": "code",
        "outputId": "a3294f20-af98-48e3-be52-a46964179abf",
        "colab": {
          "base_uri": "https://localhost:8080/",
          "height": 331
        }
      },
      "source": [
        "##\n",
        "# use log price to make model\n",
        "reg_log = LinearRegression().fit(X_train, np.log(y_train))\n",
        "\n",
        "# R^2\n",
        "print(\"reg_logprice model R^2 : \" , reg_log.score(X_train, np.log(y_train)), sep= \"\")\n",
        "\n",
        "sns.regplot(x=np.log(y_val),y=y_pred,fit_reg=True)\n",
        "\n",
        "# predict on testing data\n",
        "y_pred_log = reg_log.predict(X_val)\n",
        "\n",
        "# RMSE ( Root Mean Squared Error)\n",
        "print(\"MSE_logged : \", mean_squared_error(np.log(y_val), y_pred_log), sep=\"\")\n",
        "print(\"MSE_price : \", mean_squared_error(y_val, np.exp(y_pred_log)), sep=\"\")"
      ],
      "execution_count": 104,
      "outputs": [
        {
          "output_type": "stream",
          "text": [
            "reg_logprice model R^2 : 0.4657438993515855\n",
            "MSE_logged : 0.24268444264733197\n",
            "MSE_price : 3911.561284176854\n"
          ],
          "name": "stdout"
        },
        {
          "output_type": "display_data",
          "data": {
            "image/png": "[encoded data removed]",
            "text/plain": [
              "<Figure size 432x288 with 1 Axes>"
            ]
          },
          "metadata": {
            "tags": [],
            "needs_background": "light"
          }
        }
      ]
    },
    {
      "cell_type": "code",
      "metadata": {
        "id": "qgT9fVbnhtL3",
        "colab_type": "code",
        "outputId": "4c27a8fd-5bc3-4e04-c557-20a7e2ab85dd",
        "colab": {
          "base_uri": "https://localhost:8080/",
          "height": 421
        }
      },
      "source": [
        "err_logmodel= np.abs(np.exp(y_pred_log) - y_val)\n",
        "print(err_logmodel.describe())\n",
        "\n",
        "plt.hist(err_logmodel, bins = 100)\n",
        "plt.show()"
      ],
      "execution_count": 105,
      "outputs": [
        {
          "output_type": "stream",
          "text": [
            "count    3223.000000\n",
            "mean       36.560534\n",
            "std        50.751235\n",
            "min         0.002235\n",
            "25%         9.999966\n",
            "50%        20.874289\n",
            "75%        40.781583\n",
            "max       429.879123\n",
            "Name: price, dtype: float64\n"
          ],
          "name": "stdout"
        },
        {
          "output_type": "display_data",
          "data": {
            "image/png": "[encoded data removed]",
            "text/plain": [
              "<Figure size 432x288 with 1 Axes>"
            ]
          },
          "metadata": {
            "tags": [],
            "needs_background": "light"
          }
        }
      ]
    },
    {
      "cell_type": "markdown",
      "metadata": {
        "id": "eVX-zsdwNBWU",
        "colab_type": "text"
      },
      "source": [
        "# predict on testing data"
      ]
    },
    {
      "cell_type": "code",
      "metadata": {
        "id": "MI_LPKCoNE1E",
        "colab_type": "code",
        "colab": {}
      },
      "source": [
        "# process testing data\n",
        "\n",
        "df_test = test.loc[:,[\"host_is_superhost\",\n",
        "                 \"host_identity_verified\",\n",
        "                 \"latitude\",\n",
        "                 \"longitude\",\n",
        "                 \"accommodates\",\n",
        "                 \"bathrooms\",\n",
        "                 \"bedrooms\",\n",
        "                 \"beds\",\n",
        "                 \"number_of_reviews\",\n",
        "                 \"review_scores_rating\",\n",
        "                 #\"neighbourhood\",\n",
        "                 #\"property_type\",\n",
        "                 \"room_type\",\n",
        "                 \"bed_type\",\n",
        "                 \"price\"]]\n",
        "\n",
        "df_test.price = pd.to_numeric(df_test.price.str.replace(r\"$\",\"\").str.replace(r\",\",\"\"))\n",
        "\n",
        "df_test.fillna(0, inplace=True) \n",
        "df_test = df_test.replace(\"f\", 0).replace(\"t\", 1)\n",
        "df_test.head()\n",
        "\n",
        "### remove testing set outliers will greatly improve performance\n",
        "# df_test = df_test.loc[df_test.price<500, :]\n",
        "\n",
        "#use one-hot-encoding \n",
        "categorical=['room_type','bed_type']\n",
        "data_test=pd.get_dummies(df_test, columns=categorical)\n",
        "data_test.head(5)\n",
        "# data_test.info()\n",
        "\n",
        "features = data_test.columns[data_test.columns != \"price\"]\n",
        "\n",
        "X_test = data_test.loc[:,features]\n",
        "Y_test = data_test[\"price\"]"
      ],
      "execution_count": 0,
      "outputs": []
    },
    {
      "cell_type": "code",
      "metadata": {
        "id": "YtoLS0caNcx4",
        "colab_type": "code",
        "outputId": "5fbadc83-a48c-4bd2-dfc2-14cb5c18e423",
        "colab": {
          "base_uri": "https://localhost:8080/",
          "height": 34
        }
      },
      "source": [
        "Y_pred = reg.predict(X_test)\n",
        "print(\"MSE_price : \", mean_squared_error(Y_test, Y_pred), sep=\"\")"
      ],
      "execution_count": 107,
      "outputs": [
        {
          "output_type": "stream",
          "text": [
            "MSE_price : 23436.796059303942\n"
          ],
          "name": "stdout"
        }
      ]
    },
    {
      "cell_type": "code",
      "metadata": {
        "id": "X7nRPhyiQQ-Q",
        "colab_type": "code",
        "outputId": "9403d457-91be-48c8-d915-a8580b74337d",
        "colab": {
          "base_uri": "https://localhost:8080/",
          "height": 296
        }
      },
      "source": [
        "sns.regplot(x=Y_test,y=Y_pred,fit_reg=True)"
      ],
      "execution_count": 108,
      "outputs": [
        {
          "output_type": "execute_result",
          "data": {
            "text/plain": [
              "<matplotlib.axes._subplots.AxesSubplot at 0x7f08f0f940b8>"
            ]
          },
          "metadata": {
            "tags": []
          },
          "execution_count": 108
        },
        {
          "output_type": "display_data",
          "data": {
            "image/png": "[encoded data removed]",
            "text/plain": [
              "<Figure size 432x288 with 1 Axes>"
            ]
          },
          "metadata": {
            "tags": [],
            "needs_background": "light"
          }
        }
      ]
    },
    {
      "cell_type": "markdown",
      "metadata": {
        "id": "xSr0yryruMSc",
        "colab_type": "text"
      },
      "source": [
        "# LASSO\n"
      ]
    },
    {
      "cell_type": "code",
      "metadata": {
        "id": "rTojvXYTuOSt",
        "colab_type": "code",
        "colab": {}
      },
      "source": [
        "from sklearn import linear_model\n",
        "\n",
        "# split training data into train and validation sets\n",
        "X_train_lasso, X_val_lasso, y_train_lasso, y_val_lasso = train_test_split (X_train, y_train, \n",
        "                                                                           test_size=0.10, random_state=42)\n",
        "# X_train_lasso.shape\n",
        "# y_train_lasso.shape"
      ],
      "execution_count": 0,
      "outputs": []
    },
    {
      "cell_type": "code",
      "metadata": {
        "id": "1rBE-Hi1wfkO",
        "colab_type": "code",
        "colab": {
          "base_uri": "https://localhost:8080/",
          "height": 407
        },
        "outputId": "ff2be674-e44f-4e35-e783-11c2e35b3710"
      },
      "source": [
        "MSE_LASSO = list()\n",
        "for i in range(0, 20):\n",
        "    clf = linear_model.Lasso(alpha= i/10)\n",
        "    clf.fit(X_train_lasso, y_train_lasso)\n",
        "    y_pred_lasso = clf.predict(X_val_lasso)\n",
        "    mse = mean_squared_error(y_pred_lasso, y_val_lasso)\n",
        "    MSE_LASSO.append((i/10, mse))\n",
        "MSE_LASSO\n",
        "\n",
        "alpha_tune = [i for i,j in MSE_LASSO]\n",
        "mse_tune = [j for i,j in MSE_LASSO]\n",
        "\n",
        "plt.plot(alpha_tune, mse_tune)"
      ],
      "execution_count": 120,
      "outputs": [
        {
          "output_type": "stream",
          "text": [
            "/usr/local/lib/python3.6/dist-packages/ipykernel_launcher.py:4: UserWarning: With alpha=0, this algorithm does not converge well. You are advised to use the LinearRegression estimator\n",
            "  after removing the cwd from sys.path.\n",
            "/usr/local/lib/python3.6/dist-packages/sklearn/linear_model/_coordinate_descent.py:476: UserWarning: Coordinate descent with no regularization may lead to unexpected results and is discouraged.\n",
            "  positive)\n",
            "/usr/local/lib/python3.6/dist-packages/sklearn/linear_model/_coordinate_descent.py:476: ConvergenceWarning: Objective did not converge. You might want to increase the number of iterations. Duality gap: 20108749.141710855, tolerance: 6323.110623291096\n",
            "  positive)\n"
          ],
          "name": "stderr"
        },
        {
          "output_type": "execute_result",
          "data": {
            "text/plain": [
              "[<matplotlib.lines.Line2D at 0x7f08f16b4c18>]"
            ]
          },
          "metadata": {
            "tags": []
          },
          "execution_count": 120
        },
        {
          "output_type": "display_data",
          "data": {
            "image/png": "[encoded data removed]",
            "text/plain": [
              "<Figure size 432x288 with 1 Axes>"
            ]
          },
          "metadata": {
            "tags": [],
            "needs_background": "light"
          }
        }
      ]
    },
    {
      "cell_type": "markdown",
      "metadata": {
        "id": "WE0RLKEU1XT8",
        "colab_type": "text"
      },
      "source": [
        "#### this result shows that LASSO with alpha = 0 is better (alpha=0 LASSO equals linearRegression). this means no regularization is needed, because we already manuly selected the features"
      ]
    },
    {
      "cell_type": "code",
      "metadata": {
        "id": "Uvi07QNhIeQN",
        "colab_type": "code",
        "colab": {
          "base_uri": "https://localhost:8080/",
          "height": 159
        },
        "outputId": "dacd4ad8-08fd-4f9f-9af9-240b6533e672"
      },
      "source": [
        "clf = linear_model.Lasso(alpha= 0)\n",
        "clf.fit(X_train, y_train)\n",
        "y_pred = clf.predict(X_test)\n",
        "mse = mean_squared_error(y_pred, Y_test)\n",
        "print(\"MES of LASSO with alpha =0\", mse)"
      ],
      "execution_count": 135,
      "outputs": [
        {
          "output_type": "stream",
          "text": [
            "/usr/local/lib/python3.6/dist-packages/ipykernel_launcher.py:2: UserWarning: With alpha=0, this algorithm does not converge well. You are advised to use the LinearRegression estimator\n",
            "  \n",
            "/usr/local/lib/python3.6/dist-packages/sklearn/linear_model/_coordinate_descent.py:476: UserWarning: Coordinate descent with no regularization may lead to unexpected results and is discouraged.\n",
            "  positive)\n"
          ],
          "name": "stderr"
        },
        {
          "output_type": "stream",
          "text": [
            "MES of LASSO with alpha =0 23436.796059304037\n"
          ],
          "name": "stdout"
        },
        {
          "output_type": "stream",
          "text": [
            "/usr/local/lib/python3.6/dist-packages/sklearn/linear_model/_coordinate_descent.py:476: ConvergenceWarning: Objective did not converge. You might want to increase the number of iterations. Duality gap: 22031791.05793283, tolerance: 6953.585674020632\n",
            "  positive)\n"
          ],
          "name": "stderr"
        }
      ]
    },
    {
      "cell_type": "markdown",
      "metadata": {
        "id": "66hJc4bvG47e",
        "colab_type": "text"
      },
      "source": [
        "#LASSOCV\n"
      ]
    },
    {
      "cell_type": "code",
      "metadata": {
        "id": "DDSrNA8IG_Ga",
        "colab_type": "code",
        "colab": {
          "base_uri": "https://localhost:8080/",
          "height": 34
        },
        "outputId": "b3bf5dd1-02a4-4014-c3d3-897ee5171c66"
      },
      "source": [
        "from sklearn.linear_model import LassoCV\n",
        "reg = LassoCV(cv=5, random_state=0).fit(X_train, y_train)\n",
        "\n",
        "# Return the coefficient of determination R^2 of the prediction.\n",
        "reg.score(X_train, y_train)  "
      ],
      "execution_count": 123,
      "outputs": [
        {
          "output_type": "execute_result",
          "data": {
            "text/plain": [
              "0.35530489384663766"
            ]
          },
          "metadata": {
            "tags": []
          },
          "execution_count": 123
        }
      ]
    },
    {
      "cell_type": "code",
      "metadata": {
        "id": "f1doRKxSHu0C",
        "colab_type": "code",
        "colab": {
          "base_uri": "https://localhost:8080/",
          "height": 278
        },
        "outputId": "b28b62f6-694d-4568-e8fc-b6bfa65748da"
      },
      "source": [
        " reg.get_params()"
      ],
      "execution_count": 127,
      "outputs": [
        {
          "output_type": "execute_result",
          "data": {
            "text/plain": [
              "{'alphas': None,\n",
              " 'copy_X': True,\n",
              " 'cv': 5,\n",
              " 'eps': 0.001,\n",
              " 'fit_intercept': True,\n",
              " 'max_iter': 1000,\n",
              " 'n_alphas': 100,\n",
              " 'n_jobs': None,\n",
              " 'normalize': False,\n",
              " 'positive': False,\n",
              " 'precompute': 'auto',\n",
              " 'random_state': 0,\n",
              " 'selection': 'cyclic',\n",
              " 'tol': 0.0001,\n",
              " 'verbose': False}"
            ]
          },
          "metadata": {
            "tags": []
          },
          "execution_count": 127
        }
      ]
    },
    {
      "cell_type": "code",
      "metadata": {
        "id": "hxcNUCqMHMvH",
        "colab_type": "code",
        "colab": {
          "base_uri": "https://localhost:8080/",
          "height": 34
        },
        "outputId": "89e0f664-b7d5-41e5-fbfb-2a99112b4362"
      },
      "source": [
        "y_pred_lassocv = reg.predict(X_test)\n",
        "\n",
        "mse_lassoCV = mean_squared_error(y_pred_lassocv, Y_test)\n",
        "print(\"MSE of LASSOCV: \", mse_lassoCV)"
      ],
      "execution_count": 130,
      "outputs": [
        {
          "output_type": "stream",
          "text": [
            "MSE of LASSOCV:  23567.168826220848\n"
          ],
          "name": "stdout"
        }
      ]
    }
  ]
}