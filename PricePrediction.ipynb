{
  "nbformat": 4,
  "nbformat_minor": 0,
  "metadata": {
    "colab": {
      "name": "Untitled2.ipynb",
      "provenance": [],
      "authorship_tag": "ABX9TyPIhGnuHNUVsamTLX6j1DiV",
      "include_colab_link": true
    },
    "kernelspec": {
      "name": "python3",
      "display_name": "Python 3"
    }
  },
  "cells": [
    {
      "cell_type": "markdown",
      "metadata": {
        "id": "view-in-github",
        "colab_type": "text"
      },
      "source": [
        "<a href=\"https://colab.research.google.com/github/RyanXJu/Airbnb_Montreal/blob/master/PricePrediction.ipynb\" target=\"_parent\"><img src=\"https://colab.research.google.com/assets/colab-badge.svg\" alt=\"Open In Colab\"/></a>"
      ]
    },
    {
      "cell_type": "markdown",
      "metadata": {
        "id": "NB5t24NY0tQJ",
        "colab_type": "text"
      },
      "source": [
        "# Predict Airbnb price in Montreal"
      ]
    },
    {
      "cell_type": "code",
      "metadata": {
        "id": "HNOnJbIv0sZc",
        "colab_type": "code",
        "outputId": "b1453640-5748-412f-8c7b-93852b883697",
        "colab": {
          "base_uri": "https://localhost:8080/",
          "height": 54
        }
      },
      "source": [
        "from google.colab import drive\n",
        "drive.mount('/content/gdrive')"
      ],
      "execution_count": 86,
      "outputs": [
        {
          "output_type": "stream",
          "text": [
            "Drive already mounted at /content/gdrive; to attempt to forcibly remount, call drive.mount(\"/content/gdrive\", force_remount=True).\n"
          ],
          "name": "stdout"
        }
      ]
    },
    {
      "cell_type": "code",
      "metadata": {
        "id": "0VufvsBG1-nx",
        "colab_type": "code",
        "colab": {}
      },
      "source": [
        "import pandas as pd\n",
        "import numpy as np\n",
        "import matplotlib.pyplot as plt\n",
        "%matplotlib inline\n",
        "\n",
        "import seaborn as sns\n",
        "import scipy"
      ],
      "execution_count": 0,
      "outputs": []
    },
    {
      "cell_type": "code",
      "metadata": {
        "id": "qm3EoMh92BYu",
        "colab_type": "code",
        "outputId": "93cdef31-09c9-45f6-f26f-6445423c4590",
        "colab": {
          "base_uri": "https://localhost:8080/",
          "height": 72
        }
      },
      "source": [
        "# load listing datasets\n",
        "root_path = 'gdrive/My Drive/Airbnb/'\n",
        "listings_detail = pd.read_csv(root_path+\"listings_detail.csv\")"
      ],
      "execution_count": 88,
      "outputs": [
        {
          "output_type": "stream",
          "text": [
            "/usr/local/lib/python3.6/dist-packages/IPython/core/interactiveshell.py:2718: DtypeWarning: Columns (61,62) have mixed types. Specify dtype option on import or set low_memory=False.\n",
            "  interactivity=interactivity, compiler=compiler, result=result)\n"
          ],
          "name": "stderr"
        }
      ]
    },
    {
      "cell_type": "code",
      "metadata": {
        "id": "ZGvgbNKh2DBn",
        "colab_type": "code",
        "outputId": "ec96ff33-829b-4075-9e85-568d9182bd56",
        "colab": {
          "base_uri": "https://localhost:8080/",
          "height": 488
        }
      },
      "source": [
        "listings_detail.head(3)"
      ],
      "execution_count": 89,
      "outputs": [
        {
          "output_type": "execute_result",
          "data": {
            "text/html": [
              "<div>\n",
              "<style scoped>\n",
              "    .dataframe tbody tr th:only-of-type {\n",
              "        vertical-align: middle;\n",
              "    }\n",
              "\n",
              "    .dataframe tbody tr th {\n",
              "        vertical-align: top;\n",
              "    }\n",
              "\n",
              "    .dataframe thead th {\n",
              "        text-align: right;\n",
              "    }\n",
              "</style>\n",
              "<table border=\"1\" class=\"dataframe\">\n",
              "  <thead>\n",
              "    <tr style=\"text-align: right;\">\n",
              "      <th></th>\n",
              "      <th>id</th>\n",
              "      <th>listing_url</th>\n",
              "      <th>scrape_id</th>\n",
              "      <th>last_scraped</th>\n",
              "      <th>name</th>\n",
              "      <th>summary</th>\n",
              "      <th>space</th>\n",
              "      <th>description</th>\n",
              "      <th>experiences_offered</th>\n",
              "      <th>neighborhood_overview</th>\n",
              "      <th>notes</th>\n",
              "      <th>transit</th>\n",
              "      <th>access</th>\n",
              "      <th>interaction</th>\n",
              "      <th>house_rules</th>\n",
              "      <th>thumbnail_url</th>\n",
              "      <th>medium_url</th>\n",
              "      <th>picture_url</th>\n",
              "      <th>xl_picture_url</th>\n",
              "      <th>host_id</th>\n",
              "      <th>host_url</th>\n",
              "      <th>host_name</th>\n",
              "      <th>host_since</th>\n",
              "      <th>host_location</th>\n",
              "      <th>host_about</th>\n",
              "      <th>host_response_time</th>\n",
              "      <th>host_response_rate</th>\n",
              "      <th>host_acceptance_rate</th>\n",
              "      <th>host_is_superhost</th>\n",
              "      <th>host_thumbnail_url</th>\n",
              "      <th>host_picture_url</th>\n",
              "      <th>host_neighbourhood</th>\n",
              "      <th>host_listings_count</th>\n",
              "      <th>host_total_listings_count</th>\n",
              "      <th>host_verifications</th>\n",
              "      <th>host_has_profile_pic</th>\n",
              "      <th>host_identity_verified</th>\n",
              "      <th>street</th>\n",
              "      <th>neighbourhood</th>\n",
              "      <th>neighbourhood_cleansed</th>\n",
              "      <th>...</th>\n",
              "      <th>extra_people</th>\n",
              "      <th>minimum_nights</th>\n",
              "      <th>maximum_nights</th>\n",
              "      <th>minimum_minimum_nights</th>\n",
              "      <th>maximum_minimum_nights</th>\n",
              "      <th>minimum_maximum_nights</th>\n",
              "      <th>maximum_maximum_nights</th>\n",
              "      <th>minimum_nights_avg_ntm</th>\n",
              "      <th>maximum_nights_avg_ntm</th>\n",
              "      <th>calendar_updated</th>\n",
              "      <th>has_availability</th>\n",
              "      <th>availability_30</th>\n",
              "      <th>availability_60</th>\n",
              "      <th>availability_90</th>\n",
              "      <th>availability_365</th>\n",
              "      <th>calendar_last_scraped</th>\n",
              "      <th>number_of_reviews</th>\n",
              "      <th>number_of_reviews_ltm</th>\n",
              "      <th>first_review</th>\n",
              "      <th>last_review</th>\n",
              "      <th>review_scores_rating</th>\n",
              "      <th>review_scores_accuracy</th>\n",
              "      <th>review_scores_cleanliness</th>\n",
              "      <th>review_scores_checkin</th>\n",
              "      <th>review_scores_communication</th>\n",
              "      <th>review_scores_location</th>\n",
              "      <th>review_scores_value</th>\n",
              "      <th>requires_license</th>\n",
              "      <th>license</th>\n",
              "      <th>jurisdiction_names</th>\n",
              "      <th>instant_bookable</th>\n",
              "      <th>is_business_travel_ready</th>\n",
              "      <th>cancellation_policy</th>\n",
              "      <th>require_guest_profile_picture</th>\n",
              "      <th>require_guest_phone_verification</th>\n",
              "      <th>calculated_host_listings_count</th>\n",
              "      <th>calculated_host_listings_count_entire_homes</th>\n",
              "      <th>calculated_host_listings_count_private_rooms</th>\n",
              "      <th>calculated_host_listings_count_shared_rooms</th>\n",
              "      <th>reviews_per_month</th>\n",
              "    </tr>\n",
              "  </thead>\n",
              "  <tbody>\n",
              "    <tr>\n",
              "      <th>0</th>\n",
              "      <td>2078</td>\n",
              "      <td>https://www.airbnb.com/rooms/2078</td>\n",
              "      <td>20200113202958</td>\n",
              "      <td>2020-01-14</td>\n",
              "      <td>Central comfy close to Metro Laurie</td>\n",
              "      <td>Centrally located in trendy Le Plateau.   Join...</td>\n",
              "      <td>Centrally located  clean comfy furnished room ...</td>\n",
              "      <td>Centrally located in trendy Le Plateau.   Join...</td>\n",
              "      <td>none</td>\n",
              "      <td>Although my place is centrally located in Le P...</td>\n",
              "      <td>I always inform my guests the places/attractio...</td>\n",
              "      <td>I am 6-8 mins. walk to Metro Laurie and bus ro...</td>\n",
              "      <td>You will have full access in the apartment.  I...</td>\n",
              "      <td>I am always available to help and give informa...</td>\n",
              "      <td>No house rules but I expect my guests to follo...</td>\n",
              "      <td>NaN</td>\n",
              "      <td>NaN</td>\n",
              "      <td>https://a0.muscache.com/im/pictures/88170231/0...</td>\n",
              "      <td>NaN</td>\n",
              "      <td>2277</td>\n",
              "      <td>https://www.airbnb.com/users/show/2277</td>\n",
              "      <td>Nelia</td>\n",
              "      <td>2008-08-19</td>\n",
              "      <td>Montreal, Québec, Canada</td>\n",
              "      <td>Honest, quiet and adhere to the golden rules a...</td>\n",
              "      <td>within a few hours</td>\n",
              "      <td>100%</td>\n",
              "      <td>NaN</td>\n",
              "      <td>f</td>\n",
              "      <td>https://a0.muscache.com/im/users/2277/profile_...</td>\n",
              "      <td>https://a0.muscache.com/im/users/2277/profile_...</td>\n",
              "      <td>Le Plateau</td>\n",
              "      <td>1.0</td>\n",
              "      <td>1.0</td>\n",
              "      <td>['email', 'phone', 'reviews', 'manual_offline'...</td>\n",
              "      <td>t</td>\n",
              "      <td>t</td>\n",
              "      <td>Montreal, QC, Canada</td>\n",
              "      <td>Le Plateau-Mont-Royal</td>\n",
              "      <td>Le Plateau-Mont-Royal</td>\n",
              "      <td>...</td>\n",
              "      <td>$6.00</td>\n",
              "      <td>2</td>\n",
              "      <td>7</td>\n",
              "      <td>2</td>\n",
              "      <td>2</td>\n",
              "      <td>7</td>\n",
              "      <td>7</td>\n",
              "      <td>2.0</td>\n",
              "      <td>7.0</td>\n",
              "      <td>7 weeks ago</td>\n",
              "      <td>t</td>\n",
              "      <td>0</td>\n",
              "      <td>0</td>\n",
              "      <td>0</td>\n",
              "      <td>226</td>\n",
              "      <td>2020-01-14</td>\n",
              "      <td>245</td>\n",
              "      <td>0</td>\n",
              "      <td>2011-09-06</td>\n",
              "      <td>2018-09-23</td>\n",
              "      <td>93.0</td>\n",
              "      <td>10.0</td>\n",
              "      <td>9.0</td>\n",
              "      <td>10.0</td>\n",
              "      <td>10.0</td>\n",
              "      <td>10.0</td>\n",
              "      <td>10.0</td>\n",
              "      <td>f</td>\n",
              "      <td>NaN</td>\n",
              "      <td>{Quebec,\" CA\"}</td>\n",
              "      <td>t</td>\n",
              "      <td>f</td>\n",
              "      <td>flexible</td>\n",
              "      <td>f</td>\n",
              "      <td>f</td>\n",
              "      <td>1</td>\n",
              "      <td>0</td>\n",
              "      <td>1</td>\n",
              "      <td>0</td>\n",
              "      <td>2.41</td>\n",
              "    </tr>\n",
              "    <tr>\n",
              "      <th>1</th>\n",
              "      <td>2843</td>\n",
              "      <td>https://www.airbnb.com/rooms/2843</td>\n",
              "      <td>20200113202958</td>\n",
              "      <td>2020-01-14</td>\n",
              "      <td>Fabulous downtown/airport room</td>\n",
              "      <td>Come stay in this trendy area of downtown Mont...</td>\n",
              "      <td>Private individual room in the downtown area, ...</td>\n",
              "      <td>Come stay in this trendy area of downtown Mont...</td>\n",
              "      <td>none</td>\n",
              "      <td>This area of St Henri is actually downtown Mon...</td>\n",
              "      <td>From this room you can walk to downtown Montre...</td>\n",
              "      <td>There is a major metro/subway stop called Lion...</td>\n",
              "      <td>The guests can use the kitchen anytime, fully ...</td>\n",
              "      <td>I meet guests when they arrive show them the h...</td>\n",
              "      <td>No smoking and no pets Airport bus stops acros...</td>\n",
              "      <td>NaN</td>\n",
              "      <td>NaN</td>\n",
              "      <td>https://a0.muscache.com/im/pictures/803776/a2a...</td>\n",
              "      <td>NaN</td>\n",
              "      <td>2319</td>\n",
              "      <td>https://www.airbnb.com/users/show/2319</td>\n",
              "      <td>Gail</td>\n",
              "      <td>2008-08-19</td>\n",
              "      <td>Montreal, Québec, Canada</td>\n",
              "      <td>Manage a network of downtown rooms and private...</td>\n",
              "      <td>within an hour</td>\n",
              "      <td>100%</td>\n",
              "      <td>NaN</td>\n",
              "      <td>f</td>\n",
              "      <td>https://a0.muscache.com/im/pictures/user/7c04e...</td>\n",
              "      <td>https://a0.muscache.com/im/pictures/user/7c04e...</td>\n",
              "      <td>Little Burgundy</td>\n",
              "      <td>6.0</td>\n",
              "      <td>6.0</td>\n",
              "      <td>['email', 'phone', 'facebook', 'reviews', 'jum...</td>\n",
              "      <td>t</td>\n",
              "      <td>t</td>\n",
              "      <td>Montréal, Québec, Canada</td>\n",
              "      <td>Le Sud-Ouest</td>\n",
              "      <td>Le Sud-Ouest</td>\n",
              "      <td>...</td>\n",
              "      <td>$10.00</td>\n",
              "      <td>1</td>\n",
              "      <td>365</td>\n",
              "      <td>1</td>\n",
              "      <td>1</td>\n",
              "      <td>365</td>\n",
              "      <td>365</td>\n",
              "      <td>1.0</td>\n",
              "      <td>365.0</td>\n",
              "      <td>3 days ago</td>\n",
              "      <td>t</td>\n",
              "      <td>18</td>\n",
              "      <td>18</td>\n",
              "      <td>18</td>\n",
              "      <td>18</td>\n",
              "      <td>2020-01-14</td>\n",
              "      <td>143</td>\n",
              "      <td>30</td>\n",
              "      <td>2009-06-20</td>\n",
              "      <td>2019-12-30</td>\n",
              "      <td>88.0</td>\n",
              "      <td>9.0</td>\n",
              "      <td>9.0</td>\n",
              "      <td>9.0</td>\n",
              "      <td>9.0</td>\n",
              "      <td>10.0</td>\n",
              "      <td>10.0</td>\n",
              "      <td>f</td>\n",
              "      <td>NaN</td>\n",
              "      <td>{Quebec,\" CA\"}</td>\n",
              "      <td>t</td>\n",
              "      <td>f</td>\n",
              "      <td>moderate</td>\n",
              "      <td>f</td>\n",
              "      <td>f</td>\n",
              "      <td>5</td>\n",
              "      <td>2</td>\n",
              "      <td>3</td>\n",
              "      <td>0</td>\n",
              "      <td>1.11</td>\n",
              "    </tr>\n",
              "    <tr>\n",
              "      <th>2</th>\n",
              "      <td>14584</td>\n",
              "      <td>https://www.airbnb.com/rooms/14584</td>\n",
              "      <td>20200113202958</td>\n",
              "      <td>2020-01-14</td>\n",
              "      <td>Spread Out in 1,200 Square Feet of Luxury in t...</td>\n",
              "      <td>This stylish and spacious loft has modern artw...</td>\n",
              "      <td>It's artistic and tasteful with a modern touch...</td>\n",
              "      <td>This stylish and spacious loft has modern artw...</td>\n",
              "      <td>none</td>\n",
              "      <td>This chic apartment can be found in the Platea...</td>\n",
              "      <td>NaN</td>\n",
              "      <td>NaN</td>\n",
              "      <td>NaN</td>\n",
              "      <td>NaN</td>\n",
              "      <td>NaN</td>\n",
              "      <td>NaN</td>\n",
              "      <td>NaN</td>\n",
              "      <td>https://a0.muscache.com/4ea/air/v2//pictures/0...</td>\n",
              "      <td>NaN</td>\n",
              "      <td>57358</td>\n",
              "      <td>https://www.airbnb.com/users/show/57358</td>\n",
              "      <td>Verona</td>\n",
              "      <td>2009-11-25</td>\n",
              "      <td>Montreal, Québec, Canada</td>\n",
              "      <td>I am a half Filipino/Norwegian painter living ...</td>\n",
              "      <td>within a few hours</td>\n",
              "      <td>100%</td>\n",
              "      <td>NaN</td>\n",
              "      <td>t</td>\n",
              "      <td>https://a0.muscache.com/im/users/57358/profile...</td>\n",
              "      <td>https://a0.muscache.com/im/users/57358/profile...</td>\n",
              "      <td>Le Plateau</td>\n",
              "      <td>1.0</td>\n",
              "      <td>1.0</td>\n",
              "      <td>['email', 'phone', 'facebook', 'reviews', 'man...</td>\n",
              "      <td>t</td>\n",
              "      <td>t</td>\n",
              "      <td>Montreal, QC, Canada</td>\n",
              "      <td>Le Plateau-Mont-Royal</td>\n",
              "      <td>Le Plateau-Mont-Royal</td>\n",
              "      <td>...</td>\n",
              "      <td>$20.00</td>\n",
              "      <td>3</td>\n",
              "      <td>1125</td>\n",
              "      <td>3</td>\n",
              "      <td>3</td>\n",
              "      <td>1125</td>\n",
              "      <td>1125</td>\n",
              "      <td>3.0</td>\n",
              "      <td>1125.0</td>\n",
              "      <td>a week ago</td>\n",
              "      <td>t</td>\n",
              "      <td>28</td>\n",
              "      <td>58</td>\n",
              "      <td>88</td>\n",
              "      <td>363</td>\n",
              "      <td>2020-01-14</td>\n",
              "      <td>171</td>\n",
              "      <td>30</td>\n",
              "      <td>2011-06-06</td>\n",
              "      <td>2019-11-29</td>\n",
              "      <td>98.0</td>\n",
              "      <td>10.0</td>\n",
              "      <td>10.0</td>\n",
              "      <td>10.0</td>\n",
              "      <td>10.0</td>\n",
              "      <td>10.0</td>\n",
              "      <td>10.0</td>\n",
              "      <td>f</td>\n",
              "      <td>NaN</td>\n",
              "      <td>{Quebec,\" CA\"}</td>\n",
              "      <td>f</td>\n",
              "      <td>f</td>\n",
              "      <td>strict_14_with_grace_period</td>\n",
              "      <td>f</td>\n",
              "      <td>f</td>\n",
              "      <td>1</td>\n",
              "      <td>1</td>\n",
              "      <td>0</td>\n",
              "      <td>0</td>\n",
              "      <td>1.63</td>\n",
              "    </tr>\n",
              "  </tbody>\n",
              "</table>\n",
              "<p>3 rows × 106 columns</p>\n",
              "</div>"
            ],
            "text/plain": [
              "      id  ... reviews_per_month\n",
              "0   2078  ...              2.41\n",
              "1   2843  ...              1.11\n",
              "2  14584  ...              1.63\n",
              "\n",
              "[3 rows x 106 columns]"
            ]
          },
          "metadata": {
            "tags": []
          },
          "execution_count": 89
        }
      ]
    },
    {
      "cell_type": "code",
      "metadata": {
        "id": "xIdUP145-JRU",
        "colab_type": "code",
        "outputId": "b3921b6c-e598-4939-8869-9c6f5808f847",
        "colab": {
          "base_uri": "https://localhost:8080/",
          "height": 1000
        }
      },
      "source": [
        "listings_detail.info(verbose=True, null_counts=True)"
      ],
      "execution_count": 90,
      "outputs": [
        {
          "output_type": "stream",
          "text": [
            "<class 'pandas.core.frame.DataFrame'>\n",
            "RangeIndex: 20466 entries, 0 to 20465\n",
            "Data columns (total 106 columns):\n",
            "id                                              20466 non-null int64\n",
            "listing_url                                     20466 non-null object\n",
            "scrape_id                                       20466 non-null int64\n",
            "last_scraped                                    20466 non-null object\n",
            "name                                            20448 non-null object\n",
            "summary                                         19503 non-null object\n",
            "space                                           13659 non-null object\n",
            "description                                     19916 non-null object\n",
            "experiences_offered                             20466 non-null object\n",
            "neighborhood_overview                           12631 non-null object\n",
            "notes                                           7255 non-null object\n",
            "transit                                         12668 non-null object\n",
            "access                                          10081 non-null object\n",
            "interaction                                     11187 non-null object\n",
            "house_rules                                     11439 non-null object\n",
            "thumbnail_url                                   0 non-null float64\n",
            "medium_url                                      0 non-null float64\n",
            "picture_url                                     20466 non-null object\n",
            "xl_picture_url                                  0 non-null float64\n",
            "host_id                                         20466 non-null int64\n",
            "host_url                                        20466 non-null object\n",
            "host_name                                       20429 non-null object\n",
            "host_since                                      20429 non-null object\n",
            "host_location                                   20408 non-null object\n",
            "host_about                                      11294 non-null object\n",
            "host_response_time                              12098 non-null object\n",
            "host_response_rate                              12098 non-null object\n",
            "host_acceptance_rate                            0 non-null float64\n",
            "host_is_superhost                               20429 non-null object\n",
            "host_thumbnail_url                              20429 non-null object\n",
            "host_picture_url                                20429 non-null object\n",
            "host_neighbourhood                              18106 non-null object\n",
            "host_listings_count                             20429 non-null float64\n",
            "host_total_listings_count                       20429 non-null float64\n",
            "host_verifications                              20466 non-null object\n",
            "host_has_profile_pic                            20429 non-null object\n",
            "host_identity_verified                          20429 non-null object\n",
            "street                                          20466 non-null object\n",
            "neighbourhood                                   20316 non-null object\n",
            "neighbourhood_cleansed                          20466 non-null object\n",
            "neighbourhood_group_cleansed                    0 non-null float64\n",
            "city                                            20460 non-null object\n",
            "state                                           20376 non-null object\n",
            "zipcode                                         20160 non-null object\n",
            "market                                          20406 non-null object\n",
            "smart_location                                  20466 non-null object\n",
            "country_code                                    20466 non-null object\n",
            "country                                         20466 non-null object\n",
            "latitude                                        20466 non-null float64\n",
            "longitude                                       20466 non-null float64\n",
            "is_location_exact                               20466 non-null object\n",
            "property_type                                   20466 non-null object\n",
            "room_type                                       20466 non-null object\n",
            "accommodates                                    20466 non-null int64\n",
            "bathrooms                                       20438 non-null float64\n",
            "bedrooms                                        20435 non-null float64\n",
            "beds                                            20374 non-null float64\n",
            "bed_type                                        20466 non-null object\n",
            "amenities                                       20466 non-null object\n",
            "square_feet                                     247 non-null float64\n",
            "price                                           20466 non-null object\n",
            "weekly_price                                    2350 non-null object\n",
            "monthly_price                                   2030 non-null object\n",
            "security_deposit                                13528 non-null object\n",
            "cleaning_fee                                    15593 non-null object\n",
            "guests_included                                 20466 non-null int64\n",
            "extra_people                                    20466 non-null object\n",
            "minimum_nights                                  20466 non-null int64\n",
            "maximum_nights                                  20466 non-null int64\n",
            "minimum_minimum_nights                          20466 non-null int64\n",
            "maximum_minimum_nights                          20466 non-null int64\n",
            "minimum_maximum_nights                          20466 non-null int64\n",
            "maximum_maximum_nights                          20466 non-null int64\n",
            "minimum_nights_avg_ntm                          20466 non-null float64\n",
            "maximum_nights_avg_ntm                          20466 non-null float64\n",
            "calendar_updated                                20466 non-null object\n",
            "has_availability                                20466 non-null object\n",
            "availability_30                                 20466 non-null int64\n",
            "availability_60                                 20466 non-null int64\n",
            "availability_90                                 20466 non-null int64\n",
            "availability_365                                20466 non-null int64\n",
            "calendar_last_scraped                           20466 non-null object\n",
            "number_of_reviews                               20466 non-null int64\n",
            "number_of_reviews_ltm                           20466 non-null int64\n",
            "first_review                                    16499 non-null object\n",
            "last_review                                     16499 non-null object\n",
            "review_scores_rating                            16139 non-null float64\n",
            "review_scores_accuracy                          16126 non-null float64\n",
            "review_scores_cleanliness                       16126 non-null float64\n",
            "review_scores_checkin                           16120 non-null float64\n",
            "review_scores_communication                     16128 non-null float64\n",
            "review_scores_location                          16117 non-null float64\n",
            "review_scores_value                             16113 non-null float64\n",
            "requires_license                                20466 non-null object\n",
            "license                                         0 non-null float64\n",
            "jurisdiction_names                              20454 non-null object\n",
            "instant_bookable                                20466 non-null object\n",
            "is_business_travel_ready                        20466 non-null object\n",
            "cancellation_policy                             20466 non-null object\n",
            "require_guest_profile_picture                   20466 non-null object\n",
            "require_guest_phone_verification                20466 non-null object\n",
            "calculated_host_listings_count                  20466 non-null int64\n",
            "calculated_host_listings_count_entire_homes     20466 non-null int64\n",
            "calculated_host_listings_count_private_rooms    20466 non-null int64\n",
            "calculated_host_listings_count_shared_rooms     20466 non-null int64\n",
            "reviews_per_month                               16499 non-null float64\n",
            "dtypes: float64(24), int64(21), object(61)\n",
            "memory usage: 16.6+ MB\n"
          ],
          "name": "stdout"
        }
      ]
    },
    {
      "cell_type": "markdown",
      "metadata": {
        "id": "pM-0_IAZ5gdT",
        "colab_type": "text"
      },
      "source": [
        "### select features"
      ]
    },
    {
      "cell_type": "code",
      "metadata": {
        "id": "OoCIzHoR3rNa",
        "colab_type": "code",
        "outputId": "82850a80-b46e-4d07-bbcf-160c4b106b0b",
        "colab": {
          "base_uri": "https://localhost:8080/",
          "height": 216
        }
      },
      "source": [
        "## amenities, need to separate to tokens\n",
        "df = listings_detail.loc[:, [\"host_response_time\",\n",
        "                               \"host_response_rate\",\n",
        "                               \"host_is_superhost\",\n",
        "                               \"host_identity_verified\",\n",
        "                               \"latitude\",\n",
        "                               \"longitude\",\n",
        "                               \"is_location_exact\",\n",
        "                             \"neighbourhood\",\n",
        "                               \"property_type\",\n",
        "                               \"room_type\",\n",
        "                               \"accommodates\",\n",
        "                               \"bathrooms\",\n",
        "                               \"bedrooms\",\n",
        "                               \"beds\",\n",
        "                               \"bed_type\",\n",
        "                             \"number_of_reviews\",\n",
        "                             \"review_scores_rating\",\n",
        "                               \"price\"]]\n",
        "df.head(3)"
      ],
      "execution_count": 91,
      "outputs": [
        {
          "output_type": "execute_result",
          "data": {
            "text/html": [
              "<div>\n",
              "<style scoped>\n",
              "    .dataframe tbody tr th:only-of-type {\n",
              "        vertical-align: middle;\n",
              "    }\n",
              "\n",
              "    .dataframe tbody tr th {\n",
              "        vertical-align: top;\n",
              "    }\n",
              "\n",
              "    .dataframe thead th {\n",
              "        text-align: right;\n",
              "    }\n",
              "</style>\n",
              "<table border=\"1\" class=\"dataframe\">\n",
              "  <thead>\n",
              "    <tr style=\"text-align: right;\">\n",
              "      <th></th>\n",
              "      <th>host_response_time</th>\n",
              "      <th>host_response_rate</th>\n",
              "      <th>host_is_superhost</th>\n",
              "      <th>host_identity_verified</th>\n",
              "      <th>latitude</th>\n",
              "      <th>longitude</th>\n",
              "      <th>is_location_exact</th>\n",
              "      <th>neighbourhood</th>\n",
              "      <th>property_type</th>\n",
              "      <th>room_type</th>\n",
              "      <th>accommodates</th>\n",
              "      <th>bathrooms</th>\n",
              "      <th>bedrooms</th>\n",
              "      <th>beds</th>\n",
              "      <th>bed_type</th>\n",
              "      <th>number_of_reviews</th>\n",
              "      <th>review_scores_rating</th>\n",
              "      <th>price</th>\n",
              "    </tr>\n",
              "  </thead>\n",
              "  <tbody>\n",
              "    <tr>\n",
              "      <th>0</th>\n",
              "      <td>within a few hours</td>\n",
              "      <td>100%</td>\n",
              "      <td>f</td>\n",
              "      <td>t</td>\n",
              "      <td>45.53069</td>\n",
              "      <td>-73.58588</td>\n",
              "      <td>t</td>\n",
              "      <td>Le Plateau-Mont-Royal</td>\n",
              "      <td>House</td>\n",
              "      <td>Private room</td>\n",
              "      <td>2</td>\n",
              "      <td>1.0</td>\n",
              "      <td>1.0</td>\n",
              "      <td>1.0</td>\n",
              "      <td>Real Bed</td>\n",
              "      <td>245</td>\n",
              "      <td>93.0</td>\n",
              "      <td>$39.00</td>\n",
              "    </tr>\n",
              "    <tr>\n",
              "      <th>1</th>\n",
              "      <td>within an hour</td>\n",
              "      <td>100%</td>\n",
              "      <td>f</td>\n",
              "      <td>t</td>\n",
              "      <td>45.48442</td>\n",
              "      <td>-73.57923</td>\n",
              "      <td>t</td>\n",
              "      <td>Le Sud-Ouest</td>\n",
              "      <td>Apartment</td>\n",
              "      <td>Private room</td>\n",
              "      <td>2</td>\n",
              "      <td>1.0</td>\n",
              "      <td>1.0</td>\n",
              "      <td>1.0</td>\n",
              "      <td>Real Bed</td>\n",
              "      <td>143</td>\n",
              "      <td>88.0</td>\n",
              "      <td>$30.00</td>\n",
              "    </tr>\n",
              "    <tr>\n",
              "      <th>2</th>\n",
              "      <td>within a few hours</td>\n",
              "      <td>100%</td>\n",
              "      <td>t</td>\n",
              "      <td>t</td>\n",
              "      <td>45.54135</td>\n",
              "      <td>-73.57814</td>\n",
              "      <td>f</td>\n",
              "      <td>Le Plateau-Mont-Royal</td>\n",
              "      <td>Loft</td>\n",
              "      <td>Entire home/apt</td>\n",
              "      <td>4</td>\n",
              "      <td>1.0</td>\n",
              "      <td>1.0</td>\n",
              "      <td>1.0</td>\n",
              "      <td>Real Bed</td>\n",
              "      <td>171</td>\n",
              "      <td>98.0</td>\n",
              "      <td>$175.00</td>\n",
              "    </tr>\n",
              "  </tbody>\n",
              "</table>\n",
              "</div>"
            ],
            "text/plain": [
              "   host_response_time host_response_rate  ... review_scores_rating    price\n",
              "0  within a few hours               100%  ...                 93.0   $39.00\n",
              "1      within an hour               100%  ...                 88.0   $30.00\n",
              "2  within a few hours               100%  ...                 98.0  $175.00\n",
              "\n",
              "[3 rows x 18 columns]"
            ]
          },
          "metadata": {
            "tags": []
          },
          "execution_count": 91
        }
      ]
    },
    {
      "cell_type": "code",
      "metadata": {
        "id": "dFq0OvT0YwY4",
        "colab_type": "code",
        "outputId": "7ec94c19-cf14-48ff-a666-ef0a2dbf99c4",
        "colab": {
          "base_uri": "https://localhost:8080/",
          "height": 173
        }
      },
      "source": [
        "df.price = pd.to_numeric(df.price.str.replace(r\"$\",\"\").str.replace(r\",\",\"\"))\n",
        "df.price.describe()"
      ],
      "execution_count": 92,
      "outputs": [
        {
          "output_type": "execute_result",
          "data": {
            "text/plain": [
              "count    20466.000000\n",
              "mean       112.971269\n",
              "std        222.295173\n",
              "min         10.000000\n",
              "25%         50.000000\n",
              "50%         80.000000\n",
              "75%        120.000000\n",
              "max      13294.000000\n",
              "Name: price, dtype: float64"
            ]
          },
          "metadata": {
            "tags": []
          },
          "execution_count": 92
        }
      ]
    },
    {
      "cell_type": "code",
      "metadata": {
        "id": "DmfdPyEobyhE",
        "colab_type": "code",
        "outputId": "e36a2037-8ccb-444d-b7eb-d85e50eb1e1d",
        "colab": {
          "base_uri": "https://localhost:8080/",
          "height": 296
        }
      },
      "source": [
        "sns.distplot(np.log10(df.price))"
      ],
      "execution_count": 93,
      "outputs": [
        {
          "output_type": "execute_result",
          "data": {
            "text/plain": [
              "<matplotlib.axes._subplots.AxesSubplot at 0x7fe6f61bdc18>"
            ]
          },
          "metadata": {
            "tags": []
          },
          "execution_count": 93
        },
        {
          "output_type": "display_data",
          "data": {
            "image/png": "[encoded data removed]",
            "text/plain": [
              "<Figure size 432x288 with 1 Axes>"
            ]
          },
          "metadata": {
            "tags": []
          }
        }
      ]
    },
    {
      "cell_type": "code",
      "metadata": {
        "id": "cXXYp2RzuwRN",
        "colab_type": "code",
        "colab": {
          "base_uri": "https://localhost:8080/",
          "height": 34
        },
        "outputId": "d68408ed-c010-4f58-96c8-57bdfa8afc2a"
      },
      "source": [
        "## cut outliers to obtain a more normal distribution\n",
        "\n",
        "10**2.7\n",
        "## 500 seems to be a reasonable point to cut outliers\n"
      ],
      "execution_count": 94,
      "outputs": [
        {
          "output_type": "execute_result",
          "data": {
            "text/plain": [
              "501.18723362727246"
            ]
          },
          "metadata": {
            "tags": []
          },
          "execution_count": 94
        }
      ]
    },
    {
      "cell_type": "code",
      "metadata": {
        "id": "LZoeM-spcZMH",
        "colab_type": "code",
        "outputId": "a794836f-dbde-4a9f-c92c-074cdfdadf96",
        "colab": {
          "base_uri": "https://localhost:8080/",
          "height": 34
        }
      },
      "source": [
        "# check samples with price > 500\n",
        "df.loc[df.price>500, :].shape"
      ],
      "execution_count": 95,
      "outputs": [
        {
          "output_type": "execute_result",
          "data": {
            "text/plain": [
              "(317, 18)"
            ]
          },
          "metadata": {
            "tags": []
          },
          "execution_count": 95
        }
      ]
    },
    {
      "cell_type": "code",
      "metadata": {
        "id": "xz3VD8fMQMU5",
        "colab_type": "code",
        "outputId": "25b5a690-a7c8-472e-c0e2-735fc463763d",
        "colab": {
          "base_uri": "https://localhost:8080/",
          "height": 416
        }
      },
      "source": [
        "df.info(verbose = True, null_counts=True)"
      ],
      "execution_count": 96,
      "outputs": [
        {
          "output_type": "stream",
          "text": [
            "<class 'pandas.core.frame.DataFrame'>\n",
            "RangeIndex: 20466 entries, 0 to 20465\n",
            "Data columns (total 18 columns):\n",
            "host_response_time        12098 non-null object\n",
            "host_response_rate        12098 non-null object\n",
            "host_is_superhost         20429 non-null object\n",
            "host_identity_verified    20429 non-null object\n",
            "latitude                  20466 non-null float64\n",
            "longitude                 20466 non-null float64\n",
            "is_location_exact         20466 non-null object\n",
            "neighbourhood             20316 non-null object\n",
            "property_type             20466 non-null object\n",
            "room_type                 20466 non-null object\n",
            "accommodates              20466 non-null int64\n",
            "bathrooms                 20438 non-null float64\n",
            "bedrooms                  20435 non-null float64\n",
            "beds                      20374 non-null float64\n",
            "bed_type                  20466 non-null object\n",
            "number_of_reviews         20466 non-null int64\n",
            "review_scores_rating      16139 non-null float64\n",
            "price                     20466 non-null float64\n",
            "dtypes: float64(7), int64(2), object(9)\n",
            "memory usage: 2.8+ MB\n"
          ],
          "name": "stdout"
        }
      ]
    },
    {
      "cell_type": "code",
      "metadata": {
        "id": "L0Dfj5DA9q1x",
        "colab_type": "code",
        "outputId": "ad36cd55-e06f-46b7-f168-40b7b16d096a",
        "colab": {
          "base_uri": "https://localhost:8080/",
          "height": 173
        }
      },
      "source": [
        "for col in df:\n",
        "    if(df[col].isnull().any()):\n",
        "        print(col)\n"
      ],
      "execution_count": 97,
      "outputs": [
        {
          "output_type": "stream",
          "text": [
            "host_response_time\n",
            "host_response_rate\n",
            "host_is_superhost\n",
            "host_identity_verified\n",
            "neighbourhood\n",
            "bathrooms\n",
            "bedrooms\n",
            "beds\n",
            "review_scores_rating\n"
          ],
          "name": "stdout"
        }
      ]
    },
    {
      "cell_type": "markdown",
      "metadata": {
        "id": "4IGiuyBrQ39w",
        "colab_type": "text"
      },
      "source": [
        "# verify preselected features"
      ]
    },
    {
      "cell_type": "code",
      "metadata": {
        "id": "SoRzGBer72Qk",
        "colab_type": "code",
        "outputId": "d1283c29-d035-421e-b5ff-2661920d2b38",
        "colab": {
          "base_uri": "https://localhost:8080/",
          "height": 334
        }
      },
      "source": [
        "np.unique(df.host_response_time.fillna(\"unkonwn\"))\n",
        "plt.hist(df.host_response_time.fillna(\"unkonwn\"))"
      ],
      "execution_count": 98,
      "outputs": [
        {
          "output_type": "execute_result",
          "data": {
            "text/plain": [
              "(array([1979.,    0., 8432.,    0.,    0., 1375.,    0., 8368.,    0.,\n",
              "         312.]),\n",
              " array([0. , 0.4, 0.8, 1.2, 1.6, 2. , 2.4, 2.8, 3.2, 3.6, 4. ]),\n",
              " <a list of 10 Patch objects>)"
            ]
          },
          "metadata": {
            "tags": []
          },
          "execution_count": 98
        },
        {
          "output_type": "display_data",
          "data": {
            "image/png": "[encoded data removed]",
            "text/plain": [
              "<Figure size 432x288 with 1 Axes>"
            ]
          },
          "metadata": {
            "tags": []
          }
        }
      ]
    },
    {
      "cell_type": "code",
      "metadata": {
        "id": "Y1vunmeCWkXK",
        "colab_type": "code",
        "outputId": "28bf7aa0-7d3d-46d7-b14d-2017fe020116",
        "colab": {
          "base_uri": "https://localhost:8080/",
          "height": 334
        }
      },
      "source": [
        "np.unique(df.host_response_rate.fillna(\"unkonwn\"))\n",
        "plt.hist(df.host_response_rate.fillna(\"unkonwn\"))"
      ],
      "execution_count": 99,
      "outputs": [
        {
          "output_type": "execute_result",
          "data": {
            "text/plain": [
              "(array([1.8166e+04, 4.6400e+02, 2.7400e+02, 1.5900e+02, 2.6100e+02,\n",
              "        7.8200e+02, 1.9000e+02, 5.6000e+01, 9.8000e+01, 1.6000e+01]),\n",
              " array([ 0.,  5., 10., 15., 20., 25., 30., 35., 40., 45., 50.]),\n",
              " <a list of 10 Patch objects>)"
            ]
          },
          "metadata": {
            "tags": []
          },
          "execution_count": 99
        },
        {
          "output_type": "display_data",
          "data": {
            "image/png": "[encoded data removed]",
            "text/plain": [
              "<Figure size 432x288 with 1 Axes>"
            ]
          },
          "metadata": {
            "tags": []
          }
        }
      ]
    },
    {
      "cell_type": "code",
      "metadata": {
        "id": "PUB8Ac_sW77Z",
        "colab_type": "code",
        "outputId": "af69f330-a294-4cd2-b968-abd024a95367",
        "colab": {
          "base_uri": "https://localhost:8080/",
          "height": 334
        }
      },
      "source": [
        "np.unique(df.host_is_superhost.fillna(\"unkonwn\"))\n",
        "plt.hist(df.host_is_superhost.fillna(\"unkonwn\"))"
      ],
      "execution_count": 100,
      "outputs": [
        {
          "output_type": "execute_result",
          "data": {
            "text/plain": [
              "(array([16463.,     0.,     0.,     0.,     0.,  3966.,     0.,     0.,\n",
              "            0.,    37.]),\n",
              " array([0. , 0.2, 0.4, 0.6, 0.8, 1. , 1.2, 1.4, 1.6, 1.8, 2. ]),\n",
              " <a list of 10 Patch objects>)"
            ]
          },
          "metadata": {
            "tags": []
          },
          "execution_count": 100
        },
        {
          "output_type": "display_data",
          "data": {
            "image/png": "[encoded data removed]",
            "text/plain": [
              "<Figure size 432x288 with 1 Axes>"
            ]
          },
          "metadata": {
            "tags": []
          }
        }
      ]
    },
    {
      "cell_type": "code",
      "metadata": {
        "id": "_kAqfVClXAuR",
        "colab_type": "code",
        "outputId": "0d611782-d52d-480b-c1fd-42ed6bdc0a85",
        "colab": {
          "base_uri": "https://localhost:8080/",
          "height": 334
        }
      },
      "source": [
        "np.unique(df.host_identity_verified.fillna(\"unkonwn\"))\n",
        "plt.hist(df.host_identity_verified.fillna(\"unkonwn\"))"
      ],
      "execution_count": 101,
      "outputs": [
        {
          "output_type": "execute_result",
          "data": {
            "text/plain": [
              "(array([ 6685.,     0.,     0.,     0.,     0., 13744.,     0.,     0.,\n",
              "            0.,    37.]),\n",
              " array([0. , 0.2, 0.4, 0.6, 0.8, 1. , 1.2, 1.4, 1.6, 1.8, 2. ]),\n",
              " <a list of 10 Patch objects>)"
            ]
          },
          "metadata": {
            "tags": []
          },
          "execution_count": 101
        },
        {
          "output_type": "display_data",
          "data": {
            "image/png": "[encoded data removed]",
            "text/plain": [
              "<Figure size 432x288 with 1 Axes>"
            ]
          },
          "metadata": {
            "tags": []
          }
        }
      ]
    },
    {
      "cell_type": "code",
      "metadata": {
        "id": "j-40w9FmXcg7",
        "colab_type": "code",
        "outputId": "01706e6b-5a43-444b-96bb-802ae0df4975",
        "colab": {
          "base_uri": "https://localhost:8080/",
          "height": 334
        }
      },
      "source": [
        "np.unique(df.bathrooms.fillna(0))\n",
        "plt.hist(df.bathrooms.fillna(0))"
      ],
      "execution_count": 102,
      "outputs": [
        {
          "output_type": "execute_result",
          "data": {
            "text/plain": [
              "(array([1.8528e+04, 1.8510e+03, 5.5000e+01, 1.0000e+01, 1.8000e+01,\n",
              "        1.0000e+00, 0.0000e+00, 0.0000e+00, 1.0000e+00, 2.0000e+00]),\n",
              " array([ 0.,  2.,  4.,  6.,  8., 10., 12., 14., 16., 18., 20.]),\n",
              " <a list of 10 Patch objects>)"
            ]
          },
          "metadata": {
            "tags": []
          },
          "execution_count": 102
        },
        {
          "output_type": "display_data",
          "data": {
            "image/png": "[encoded data removed]",
            "text/plain": [
              "<Figure size 432x288 with 1 Axes>"
            ]
          },
          "metadata": {
            "tags": []
          }
        }
      ]
    },
    {
      "cell_type": "code",
      "metadata": {
        "id": "9Uk4ps_LXhIr",
        "colab_type": "code",
        "outputId": "4917ed8d-75d1-405b-b3aa-bae919c8acb4",
        "colab": {
          "base_uri": "https://localhost:8080/",
          "height": 334
        }
      },
      "source": [
        "np.unique(df.bedrooms.fillna(0))\n",
        "plt.hist(df.bedrooms.fillna(0))"
      ],
      "execution_count": 103,
      "outputs": [
        {
          "output_type": "execute_result",
          "data": {
            "text/plain": [
              "(array([1.3918e+04, 5.7810e+03, 6.4100e+02, 8.7000e+01, 2.5000e+01,\n",
              "        5.0000e+00, 5.0000e+00, 1.0000e+00, 1.0000e+00, 2.0000e+00]),\n",
              " array([ 0.,  2.,  4.,  6.,  8., 10., 12., 14., 16., 18., 20.]),\n",
              " <a list of 10 Patch objects>)"
            ]
          },
          "metadata": {
            "tags": []
          },
          "execution_count": 103
        },
        {
          "output_type": "display_data",
          "data": {
            "image/png": "[encoded data removed]",
            "text/plain": [
              "<Figure size 432x288 with 1 Axes>"
            ]
          },
          "metadata": {
            "tags": []
          }
        }
      ]
    },
    {
      "cell_type": "code",
      "metadata": {
        "id": "t2LsduvuXqH_",
        "colab_type": "code",
        "outputId": "86b01124-8675-4388-cdd4-29e4ac7955eb",
        "colab": {
          "base_uri": "https://localhost:8080/",
          "height": 334
        }
      },
      "source": [
        "np.unique(df.beds.fillna(0))\n",
        "plt.hist(df.beds.fillna(0))"
      ],
      "execution_count": 104,
      "outputs": [
        {
          "output_type": "execute_result",
          "data": {
            "text/plain": [
              "(array([1.9616e+04, 7.6200e+02, 6.3000e+01, 1.4000e+01, 9.0000e+00,\n",
              "        0.0000e+00, 1.0000e+00, 0.0000e+00, 0.0000e+00, 1.0000e+00]),\n",
              " array([ 0.,  5., 10., 15., 20., 25., 30., 35., 40., 45., 50.]),\n",
              " <a list of 10 Patch objects>)"
            ]
          },
          "metadata": {
            "tags": []
          },
          "execution_count": 104
        },
        {
          "output_type": "display_data",
          "data": {
            "image/png": "[encoded data removed]",
            "text/plain": [
              "<Figure size 432x288 with 1 Axes>"
            ]
          },
          "metadata": {
            "tags": []
          }
        }
      ]
    },
    {
      "cell_type": "markdown",
      "metadata": {
        "id": "pjJA1z_tS75-",
        "colab_type": "text"
      },
      "source": [
        "# Select features for linear model\n"
      ]
    },
    {
      "cell_type": "code",
      "metadata": {
        "id": "gSgX5lABSTDD",
        "colab_type": "code",
        "colab": {}
      },
      "source": [
        "# keep only binary features and numeric features\n",
        "\n",
        "# host_is_superhost         20383 non-null object\n",
        "# host_identity_verified    20383 non-null object\n",
        "# latitude                  20420 non-null float64\n",
        "# longitude                 20420 non-null float64\n",
        "# accommodates              20420 non-null int64\n",
        "# bathrooms                 20392 non-null float64\n",
        "# bedrooms                  20389 non-null float64\n",
        "# beds                      20328 non-null float64\n",
        "# number_of_reviews         20466 non-null int64\n",
        "# review_scores_rating      16139 non-null float64\n",
        "# price                     20420 non-null float64\n",
        "\n",
        "# neighbourhood             20316 non-null object\n",
        "# property_type             20466 non-null object\n",
        "# room_type                 20466 non-null object\n",
        "# bed_type                  20466 non-null object\n",
        "\n",
        "\n",
        "# remove samples with price > 1500$\n",
        "data = df.loc[:,[\"host_is_superhost\",\n",
        "                 \"host_identity_verified\",\n",
        "                 \"latitude\",\n",
        "                 \"longitude\",\n",
        "                 \"accommodates\",\n",
        "                 \"bathrooms\",\n",
        "                 \"bedrooms\",\n",
        "                 \"beds\",\n",
        "                 \"number_of_reviews\",\n",
        "                 \"review_scores_rating\",\n",
        "                 #\"neighbourhood\",\n",
        "                 #\"property_type\",\n",
        "                 \"room_type\",\n",
        "                 \"bed_type\",\n",
        "                 \"price\"]]"
      ],
      "execution_count": 0,
      "outputs": []
    },
    {
      "cell_type": "code",
      "metadata": {
        "id": "LtDYod0mkSl-",
        "colab_type": "code",
        "colab": {
          "base_uri": "https://localhost:8080/",
          "height": 175
        },
        "outputId": "625089a3-17c6-4532-e635-795b78114723"
      },
      "source": [
        "#summary of categoricals\n",
        "data.describe(include=['O'])"
      ],
      "execution_count": 106,
      "outputs": [
        {
          "output_type": "execute_result",
          "data": {
            "text/html": [
              "<div>\n",
              "<style scoped>\n",
              "    .dataframe tbody tr th:only-of-type {\n",
              "        vertical-align: middle;\n",
              "    }\n",
              "\n",
              "    .dataframe tbody tr th {\n",
              "        vertical-align: top;\n",
              "    }\n",
              "\n",
              "    .dataframe thead th {\n",
              "        text-align: right;\n",
              "    }\n",
              "</style>\n",
              "<table border=\"1\" class=\"dataframe\">\n",
              "  <thead>\n",
              "    <tr style=\"text-align: right;\">\n",
              "      <th></th>\n",
              "      <th>host_is_superhost</th>\n",
              "      <th>host_identity_verified</th>\n",
              "      <th>room_type</th>\n",
              "      <th>bed_type</th>\n",
              "    </tr>\n",
              "  </thead>\n",
              "  <tbody>\n",
              "    <tr>\n",
              "      <th>count</th>\n",
              "      <td>20429</td>\n",
              "      <td>20429</td>\n",
              "      <td>20466</td>\n",
              "      <td>20466</td>\n",
              "    </tr>\n",
              "    <tr>\n",
              "      <th>unique</th>\n",
              "      <td>2</td>\n",
              "      <td>2</td>\n",
              "      <td>4</td>\n",
              "      <td>5</td>\n",
              "    </tr>\n",
              "    <tr>\n",
              "      <th>top</th>\n",
              "      <td>f</td>\n",
              "      <td>f</td>\n",
              "      <td>Entire home/apt</td>\n",
              "      <td>Real Bed</td>\n",
              "    </tr>\n",
              "    <tr>\n",
              "      <th>freq</th>\n",
              "      <td>16463</td>\n",
              "      <td>13744</td>\n",
              "      <td>14508</td>\n",
              "      <td>20248</td>\n",
              "    </tr>\n",
              "  </tbody>\n",
              "</table>\n",
              "</div>"
            ],
            "text/plain": [
              "       host_is_superhost host_identity_verified        room_type  bed_type\n",
              "count              20429                  20429            20466     20466\n",
              "unique                 2                      2                4         5\n",
              "top                    f                      f  Entire home/apt  Real Bed\n",
              "freq               16463                  13744            14508     20248"
            ]
          },
          "metadata": {
            "tags": []
          },
          "execution_count": 106
        }
      ]
    },
    {
      "cell_type": "code",
      "metadata": {
        "id": "-Z-isYP-kdZk",
        "colab_type": "code",
        "colab": {}
      },
      "source": [
        "# data[['property_type', 'price']].groupby(['property_type'], as_index=False).mean().sort_values(by='price',ascending=False)"
      ],
      "execution_count": 0,
      "outputs": []
    },
    {
      "cell_type": "code",
      "metadata": {
        "id": "5U86Wakhlu_s",
        "colab_type": "code",
        "colab": {
          "base_uri": "https://localhost:8080/",
          "height": 175
        },
        "outputId": "0fb34de9-d801-45c0-952d-04d19b1e06e6"
      },
      "source": [
        "data[['room_type', 'price']].groupby(['room_type'], as_index=False).mean().sort_values(by='price',ascending=False)"
      ],
      "execution_count": 108,
      "outputs": [
        {
          "output_type": "execute_result",
          "data": {
            "text/html": [
              "<div>\n",
              "<style scoped>\n",
              "    .dataframe tbody tr th:only-of-type {\n",
              "        vertical-align: middle;\n",
              "    }\n",
              "\n",
              "    .dataframe tbody tr th {\n",
              "        vertical-align: top;\n",
              "    }\n",
              "\n",
              "    .dataframe thead th {\n",
              "        text-align: right;\n",
              "    }\n",
              "</style>\n",
              "<table border=\"1\" class=\"dataframe\">\n",
              "  <thead>\n",
              "    <tr style=\"text-align: right;\">\n",
              "      <th></th>\n",
              "      <th>room_type</th>\n",
              "      <th>price</th>\n",
              "    </tr>\n",
              "  </thead>\n",
              "  <tbody>\n",
              "    <tr>\n",
              "      <th>1</th>\n",
              "      <td>Hotel room</td>\n",
              "      <td>164.196970</td>\n",
              "    </tr>\n",
              "    <tr>\n",
              "      <th>0</th>\n",
              "      <td>Entire home/apt</td>\n",
              "      <td>133.849669</td>\n",
              "    </tr>\n",
              "    <tr>\n",
              "      <th>2</th>\n",
              "      <td>Private room</td>\n",
              "      <td>61.226349</td>\n",
              "    </tr>\n",
              "    <tr>\n",
              "      <th>3</th>\n",
              "      <td>Shared room</td>\n",
              "      <td>53.597826</td>\n",
              "    </tr>\n",
              "  </tbody>\n",
              "</table>\n",
              "</div>"
            ],
            "text/plain": [
              "         room_type       price\n",
              "1       Hotel room  164.196970\n",
              "0  Entire home/apt  133.849669\n",
              "2     Private room   61.226349\n",
              "3      Shared room   53.597826"
            ]
          },
          "metadata": {
            "tags": []
          },
          "execution_count": 108
        }
      ]
    },
    {
      "cell_type": "code",
      "metadata": {
        "id": "q0_rcCUDlzXw",
        "colab_type": "code",
        "colab": {
          "base_uri": "https://localhost:8080/",
          "height": 206
        },
        "outputId": "ad339167-dc3d-42ea-c84c-58ff25840430"
      },
      "source": [
        "data[['bed_type', 'price']].groupby(['bed_type'], as_index=False).mean().sort_values(by='price',ascending=False)"
      ],
      "execution_count": 109,
      "outputs": [
        {
          "output_type": "execute_result",
          "data": {
            "text/html": [
              "<div>\n",
              "<style scoped>\n",
              "    .dataframe tbody tr th:only-of-type {\n",
              "        vertical-align: middle;\n",
              "    }\n",
              "\n",
              "    .dataframe tbody tr th {\n",
              "        vertical-align: top;\n",
              "    }\n",
              "\n",
              "    .dataframe thead th {\n",
              "        text-align: right;\n",
              "    }\n",
              "</style>\n",
              "<table border=\"1\" class=\"dataframe\">\n",
              "  <thead>\n",
              "    <tr style=\"text-align: right;\">\n",
              "      <th></th>\n",
              "      <th>bed_type</th>\n",
              "      <th>price</th>\n",
              "    </tr>\n",
              "  </thead>\n",
              "  <tbody>\n",
              "    <tr>\n",
              "      <th>4</th>\n",
              "      <td>Real Bed</td>\n",
              "      <td>113.451748</td>\n",
              "    </tr>\n",
              "    <tr>\n",
              "      <th>0</th>\n",
              "      <td>Airbed</td>\n",
              "      <td>103.500000</td>\n",
              "    </tr>\n",
              "    <tr>\n",
              "      <th>1</th>\n",
              "      <td>Couch</td>\n",
              "      <td>99.590909</td>\n",
              "    </tr>\n",
              "    <tr>\n",
              "      <th>3</th>\n",
              "      <td>Pull-out Sofa</td>\n",
              "      <td>66.144737</td>\n",
              "    </tr>\n",
              "    <tr>\n",
              "      <th>2</th>\n",
              "      <td>Futon</td>\n",
              "      <td>61.929825</td>\n",
              "    </tr>\n",
              "  </tbody>\n",
              "</table>\n",
              "</div>"
            ],
            "text/plain": [
              "        bed_type       price\n",
              "4       Real Bed  113.451748\n",
              "0         Airbed  103.500000\n",
              "1          Couch   99.590909\n",
              "3  Pull-out Sofa   66.144737\n",
              "2          Futon   61.929825"
            ]
          },
          "metadata": {
            "tags": []
          },
          "execution_count": 109
        }
      ]
    },
    {
      "cell_type": "code",
      "metadata": {
        "id": "_Ixk_ugTlNXu",
        "colab_type": "code",
        "colab": {}
      },
      "source": [
        "# data[['neighbourhood', 'price']].groupby(['neighbourhood'], as_index=False).mean().sort_values(by='price',ascending=False)"
      ],
      "execution_count": 0,
      "outputs": []
    },
    {
      "cell_type": "markdown",
      "metadata": {
        "id": "ZS48ZAc8UzvR",
        "colab_type": "text"
      },
      "source": [
        "### deal with missing value and non-numeric values"
      ]
    },
    {
      "cell_type": "code",
      "metadata": {
        "id": "H7RWZYyBUzMn",
        "colab_type": "code",
        "outputId": "5f5f3984-3648-476e-952b-8cbb28fadd94",
        "colab": {
          "base_uri": "https://localhost:8080/",
          "height": 313
        }
      },
      "source": [
        "data.fillna(0, inplace=True) \n",
        "data = data.replace(\"f\", 0).replace(\"t\", 1)\n",
        "data.head()"
      ],
      "execution_count": 111,
      "outputs": [
        {
          "output_type": "execute_result",
          "data": {
            "text/html": [
              "<div>\n",
              "<style scoped>\n",
              "    .dataframe tbody tr th:only-of-type {\n",
              "        vertical-align: middle;\n",
              "    }\n",
              "\n",
              "    .dataframe tbody tr th {\n",
              "        vertical-align: top;\n",
              "    }\n",
              "\n",
              "    .dataframe thead th {\n",
              "        text-align: right;\n",
              "    }\n",
              "</style>\n",
              "<table border=\"1\" class=\"dataframe\">\n",
              "  <thead>\n",
              "    <tr style=\"text-align: right;\">\n",
              "      <th></th>\n",
              "      <th>host_is_superhost</th>\n",
              "      <th>host_identity_verified</th>\n",
              "      <th>latitude</th>\n",
              "      <th>longitude</th>\n",
              "      <th>accommodates</th>\n",
              "      <th>bathrooms</th>\n",
              "      <th>bedrooms</th>\n",
              "      <th>beds</th>\n",
              "      <th>number_of_reviews</th>\n",
              "      <th>review_scores_rating</th>\n",
              "      <th>room_type</th>\n",
              "      <th>bed_type</th>\n",
              "      <th>price</th>\n",
              "    </tr>\n",
              "  </thead>\n",
              "  <tbody>\n",
              "    <tr>\n",
              "      <th>0</th>\n",
              "      <td>0</td>\n",
              "      <td>1</td>\n",
              "      <td>45.53069</td>\n",
              "      <td>-73.58588</td>\n",
              "      <td>2</td>\n",
              "      <td>1.0</td>\n",
              "      <td>1.0</td>\n",
              "      <td>1.0</td>\n",
              "      <td>245</td>\n",
              "      <td>93.0</td>\n",
              "      <td>Private room</td>\n",
              "      <td>Real Bed</td>\n",
              "      <td>39.0</td>\n",
              "    </tr>\n",
              "    <tr>\n",
              "      <th>1</th>\n",
              "      <td>0</td>\n",
              "      <td>1</td>\n",
              "      <td>45.48442</td>\n",
              "      <td>-73.57923</td>\n",
              "      <td>2</td>\n",
              "      <td>1.0</td>\n",
              "      <td>1.0</td>\n",
              "      <td>1.0</td>\n",
              "      <td>143</td>\n",
              "      <td>88.0</td>\n",
              "      <td>Private room</td>\n",
              "      <td>Real Bed</td>\n",
              "      <td>30.0</td>\n",
              "    </tr>\n",
              "    <tr>\n",
              "      <th>2</th>\n",
              "      <td>1</td>\n",
              "      <td>1</td>\n",
              "      <td>45.54135</td>\n",
              "      <td>-73.57814</td>\n",
              "      <td>4</td>\n",
              "      <td>1.0</td>\n",
              "      <td>1.0</td>\n",
              "      <td>1.0</td>\n",
              "      <td>171</td>\n",
              "      <td>98.0</td>\n",
              "      <td>Entire home/apt</td>\n",
              "      <td>Real Bed</td>\n",
              "      <td>175.0</td>\n",
              "    </tr>\n",
              "    <tr>\n",
              "      <th>3</th>\n",
              "      <td>1</td>\n",
              "      <td>1</td>\n",
              "      <td>45.51888</td>\n",
              "      <td>-73.56546</td>\n",
              "      <td>4</td>\n",
              "      <td>1.0</td>\n",
              "      <td>1.0</td>\n",
              "      <td>2.0</td>\n",
              "      <td>319</td>\n",
              "      <td>94.0</td>\n",
              "      <td>Entire home/apt</td>\n",
              "      <td>Real Bed</td>\n",
              "      <td>81.0</td>\n",
              "    </tr>\n",
              "    <tr>\n",
              "      <th>4</th>\n",
              "      <td>1</td>\n",
              "      <td>1</td>\n",
              "      <td>45.52020</td>\n",
              "      <td>-73.56422</td>\n",
              "      <td>5</td>\n",
              "      <td>1.0</td>\n",
              "      <td>2.0</td>\n",
              "      <td>2.0</td>\n",
              "      <td>65</td>\n",
              "      <td>92.0</td>\n",
              "      <td>Entire home/apt</td>\n",
              "      <td>Real Bed</td>\n",
              "      <td>145.0</td>\n",
              "    </tr>\n",
              "  </tbody>\n",
              "</table>\n",
              "</div>"
            ],
            "text/plain": [
              "   host_is_superhost  host_identity_verified  ...  bed_type  price\n",
              "0                  0                       1  ...  Real Bed   39.0\n",
              "1                  0                       1  ...  Real Bed   30.0\n",
              "2                  1                       1  ...  Real Bed  175.0\n",
              "3                  1                       1  ...  Real Bed   81.0\n",
              "4                  1                       1  ...  Real Bed  145.0\n",
              "\n",
              "[5 rows x 13 columns]"
            ]
          },
          "metadata": {
            "tags": []
          },
          "execution_count": 111
        }
      ]
    },
    {
      "cell_type": "code",
      "metadata": {
        "id": "fIL5LMFWmbip",
        "colab_type": "code",
        "colab": {
          "base_uri": "https://localhost:8080/",
          "height": 244
        },
        "outputId": "8aebf216-3f83-4151-fc8b-f6ad77af08d4"
      },
      "source": [
        "#use one-hot-encoding \n",
        "categorical=['room_type','bed_type']\n",
        "data_model=pd.get_dummies(data, columns=categorical)\n",
        "data_model.head(5)\n",
        "# data_model.info()"
      ],
      "execution_count": 112,
      "outputs": [
        {
          "output_type": "execute_result",
          "data": {
            "text/html": [
              "<div>\n",
              "<style scoped>\n",
              "    .dataframe tbody tr th:only-of-type {\n",
              "        vertical-align: middle;\n",
              "    }\n",
              "\n",
              "    .dataframe tbody tr th {\n",
              "        vertical-align: top;\n",
              "    }\n",
              "\n",
              "    .dataframe thead th {\n",
              "        text-align: right;\n",
              "    }\n",
              "</style>\n",
              "<table border=\"1\" class=\"dataframe\">\n",
              "  <thead>\n",
              "    <tr style=\"text-align: right;\">\n",
              "      <th></th>\n",
              "      <th>host_is_superhost</th>\n",
              "      <th>host_identity_verified</th>\n",
              "      <th>latitude</th>\n",
              "      <th>longitude</th>\n",
              "      <th>accommodates</th>\n",
              "      <th>bathrooms</th>\n",
              "      <th>bedrooms</th>\n",
              "      <th>beds</th>\n",
              "      <th>number_of_reviews</th>\n",
              "      <th>review_scores_rating</th>\n",
              "      <th>price</th>\n",
              "      <th>room_type_Entire home/apt</th>\n",
              "      <th>room_type_Hotel room</th>\n",
              "      <th>room_type_Private room</th>\n",
              "      <th>room_type_Shared room</th>\n",
              "      <th>bed_type_Airbed</th>\n",
              "      <th>bed_type_Couch</th>\n",
              "      <th>bed_type_Futon</th>\n",
              "      <th>bed_type_Pull-out Sofa</th>\n",
              "      <th>bed_type_Real Bed</th>\n",
              "    </tr>\n",
              "  </thead>\n",
              "  <tbody>\n",
              "    <tr>\n",
              "      <th>0</th>\n",
              "      <td>0</td>\n",
              "      <td>1</td>\n",
              "      <td>45.53069</td>\n",
              "      <td>-73.58588</td>\n",
              "      <td>2</td>\n",
              "      <td>1.0</td>\n",
              "      <td>1.0</td>\n",
              "      <td>1.0</td>\n",
              "      <td>245</td>\n",
              "      <td>93.0</td>\n",
              "      <td>39.0</td>\n",
              "      <td>0</td>\n",
              "      <td>0</td>\n",
              "      <td>1</td>\n",
              "      <td>0</td>\n",
              "      <td>0</td>\n",
              "      <td>0</td>\n",
              "      <td>0</td>\n",
              "      <td>0</td>\n",
              "      <td>1</td>\n",
              "    </tr>\n",
              "    <tr>\n",
              "      <th>1</th>\n",
              "      <td>0</td>\n",
              "      <td>1</td>\n",
              "      <td>45.48442</td>\n",
              "      <td>-73.57923</td>\n",
              "      <td>2</td>\n",
              "      <td>1.0</td>\n",
              "      <td>1.0</td>\n",
              "      <td>1.0</td>\n",
              "      <td>143</td>\n",
              "      <td>88.0</td>\n",
              "      <td>30.0</td>\n",
              "      <td>0</td>\n",
              "      <td>0</td>\n",
              "      <td>1</td>\n",
              "      <td>0</td>\n",
              "      <td>0</td>\n",
              "      <td>0</td>\n",
              "      <td>0</td>\n",
              "      <td>0</td>\n",
              "      <td>1</td>\n",
              "    </tr>\n",
              "    <tr>\n",
              "      <th>2</th>\n",
              "      <td>1</td>\n",
              "      <td>1</td>\n",
              "      <td>45.54135</td>\n",
              "      <td>-73.57814</td>\n",
              "      <td>4</td>\n",
              "      <td>1.0</td>\n",
              "      <td>1.0</td>\n",
              "      <td>1.0</td>\n",
              "      <td>171</td>\n",
              "      <td>98.0</td>\n",
              "      <td>175.0</td>\n",
              "      <td>1</td>\n",
              "      <td>0</td>\n",
              "      <td>0</td>\n",
              "      <td>0</td>\n",
              "      <td>0</td>\n",
              "      <td>0</td>\n",
              "      <td>0</td>\n",
              "      <td>0</td>\n",
              "      <td>1</td>\n",
              "    </tr>\n",
              "    <tr>\n",
              "      <th>3</th>\n",
              "      <td>1</td>\n",
              "      <td>1</td>\n",
              "      <td>45.51888</td>\n",
              "      <td>-73.56546</td>\n",
              "      <td>4</td>\n",
              "      <td>1.0</td>\n",
              "      <td>1.0</td>\n",
              "      <td>2.0</td>\n",
              "      <td>319</td>\n",
              "      <td>94.0</td>\n",
              "      <td>81.0</td>\n",
              "      <td>1</td>\n",
              "      <td>0</td>\n",
              "      <td>0</td>\n",
              "      <td>0</td>\n",
              "      <td>0</td>\n",
              "      <td>0</td>\n",
              "      <td>0</td>\n",
              "      <td>0</td>\n",
              "      <td>1</td>\n",
              "    </tr>\n",
              "    <tr>\n",
              "      <th>4</th>\n",
              "      <td>1</td>\n",
              "      <td>1</td>\n",
              "      <td>45.52020</td>\n",
              "      <td>-73.56422</td>\n",
              "      <td>5</td>\n",
              "      <td>1.0</td>\n",
              "      <td>2.0</td>\n",
              "      <td>2.0</td>\n",
              "      <td>65</td>\n",
              "      <td>92.0</td>\n",
              "      <td>145.0</td>\n",
              "      <td>1</td>\n",
              "      <td>0</td>\n",
              "      <td>0</td>\n",
              "      <td>0</td>\n",
              "      <td>0</td>\n",
              "      <td>0</td>\n",
              "      <td>0</td>\n",
              "      <td>0</td>\n",
              "      <td>1</td>\n",
              "    </tr>\n",
              "  </tbody>\n",
              "</table>\n",
              "</div>"
            ],
            "text/plain": [
              "   host_is_superhost  ...  bed_type_Real Bed\n",
              "0                  0  ...                  1\n",
              "1                  0  ...                  1\n",
              "2                  1  ...                  1\n",
              "3                  1  ...                  1\n",
              "4                  1  ...                  1\n",
              "\n",
              "[5 rows x 20 columns]"
            ]
          },
          "metadata": {
            "tags": []
          },
          "execution_count": 112
        }
      ]
    },
    {
      "cell_type": "code",
      "metadata": {
        "id": "sC9k_QCenlo7",
        "colab_type": "code",
        "colab": {
          "base_uri": "https://localhost:8080/",
          "height": 451
        },
        "outputId": "29b21838-eb59-4910-8870-ae68778154b3"
      },
      "source": [
        "data_model.info()"
      ],
      "execution_count": 113,
      "outputs": [
        {
          "output_type": "stream",
          "text": [
            "<class 'pandas.core.frame.DataFrame'>\n",
            "RangeIndex: 20466 entries, 0 to 20465\n",
            "Data columns (total 20 columns):\n",
            "host_is_superhost            20466 non-null int64\n",
            "host_identity_verified       20466 non-null int64\n",
            "latitude                     20466 non-null float64\n",
            "longitude                    20466 non-null float64\n",
            "accommodates                 20466 non-null int64\n",
            "bathrooms                    20466 non-null float64\n",
            "bedrooms                     20466 non-null float64\n",
            "beds                         20466 non-null float64\n",
            "number_of_reviews            20466 non-null int64\n",
            "review_scores_rating         20466 non-null float64\n",
            "price                        20466 non-null float64\n",
            "room_type_Entire home/apt    20466 non-null uint8\n",
            "room_type_Hotel room         20466 non-null uint8\n",
            "room_type_Private room       20466 non-null uint8\n",
            "room_type_Shared room        20466 non-null uint8\n",
            "bed_type_Airbed              20466 non-null uint8\n",
            "bed_type_Couch               20466 non-null uint8\n",
            "bed_type_Futon               20466 non-null uint8\n",
            "bed_type_Pull-out Sofa       20466 non-null uint8\n",
            "bed_type_Real Bed            20466 non-null uint8\n",
            "dtypes: float64(7), int64(4), uint8(9)\n",
            "memory usage: 1.9 MB\n"
          ],
          "name": "stdout"
        }
      ]
    },
    {
      "cell_type": "code",
      "metadata": {
        "id": "ohFXdaOGqUK_",
        "colab_type": "code",
        "colab": {
          "base_uri": "https://localhost:8080/",
          "height": 338
        },
        "outputId": "b5179199-262b-4a2d-ef69-e942c6463c9c"
      },
      "source": [
        "data_model = data_model.loc[data.price <= 500, :]\n",
        "data_model.describe()"
      ],
      "execution_count": 114,
      "outputs": [
        {
          "output_type": "execute_result",
          "data": {
            "text/html": [
              "<div>\n",
              "<style scoped>\n",
              "    .dataframe tbody tr th:only-of-type {\n",
              "        vertical-align: middle;\n",
              "    }\n",
              "\n",
              "    .dataframe tbody tr th {\n",
              "        vertical-align: top;\n",
              "    }\n",
              "\n",
              "    .dataframe thead th {\n",
              "        text-align: right;\n",
              "    }\n",
              "</style>\n",
              "<table border=\"1\" class=\"dataframe\">\n",
              "  <thead>\n",
              "    <tr style=\"text-align: right;\">\n",
              "      <th></th>\n",
              "      <th>host_is_superhost</th>\n",
              "      <th>host_identity_verified</th>\n",
              "      <th>latitude</th>\n",
              "      <th>longitude</th>\n",
              "      <th>accommodates</th>\n",
              "      <th>bathrooms</th>\n",
              "      <th>bedrooms</th>\n",
              "      <th>beds</th>\n",
              "      <th>number_of_reviews</th>\n",
              "      <th>review_scores_rating</th>\n",
              "      <th>price</th>\n",
              "      <th>room_type_Entire home/apt</th>\n",
              "      <th>room_type_Hotel room</th>\n",
              "      <th>room_type_Private room</th>\n",
              "      <th>room_type_Shared room</th>\n",
              "      <th>bed_type_Airbed</th>\n",
              "      <th>bed_type_Couch</th>\n",
              "      <th>bed_type_Futon</th>\n",
              "      <th>bed_type_Pull-out Sofa</th>\n",
              "      <th>bed_type_Real Bed</th>\n",
              "    </tr>\n",
              "  </thead>\n",
              "  <tbody>\n",
              "    <tr>\n",
              "      <th>count</th>\n",
              "      <td>20149.000000</td>\n",
              "      <td>20149.000000</td>\n",
              "      <td>20149.000000</td>\n",
              "      <td>20149.000000</td>\n",
              "      <td>20149.000000</td>\n",
              "      <td>20149.000000</td>\n",
              "      <td>20149.00000</td>\n",
              "      <td>20149.000000</td>\n",
              "      <td>20149.000000</td>\n",
              "      <td>20149.000000</td>\n",
              "      <td>20149.000000</td>\n",
              "      <td>20149.000000</td>\n",
              "      <td>20149.000000</td>\n",
              "      <td>20149.000000</td>\n",
              "      <td>20149.000000</td>\n",
              "      <td>20149.000000</td>\n",
              "      <td>20149.000000</td>\n",
              "      <td>20149.000000</td>\n",
              "      <td>20149.000000</td>\n",
              "      <td>20149.00000</td>\n",
              "    </tr>\n",
              "    <tr>\n",
              "      <th>mean</th>\n",
              "      <td>0.193062</td>\n",
              "      <td>0.327262</td>\n",
              "      <td>45.516072</td>\n",
              "      <td>-73.589276</td>\n",
              "      <td>3.444687</td>\n",
              "      <td>1.133232</td>\n",
              "      <td>1.38250</td>\n",
              "      <td>1.770907</td>\n",
              "      <td>23.347015</td>\n",
              "      <td>74.060847</td>\n",
              "      <td>96.297533</td>\n",
              "      <td>0.706189</td>\n",
              "      <td>0.003276</td>\n",
              "      <td>0.281602</td>\n",
              "      <td>0.008933</td>\n",
              "      <td>0.000298</td>\n",
              "      <td>0.001042</td>\n",
              "      <td>0.005658</td>\n",
              "      <td>0.003772</td>\n",
              "      <td>0.98923</td>\n",
              "    </tr>\n",
              "    <tr>\n",
              "      <th>std</th>\n",
              "      <td>0.394711</td>\n",
              "      <td>0.469225</td>\n",
              "      <td>0.031655</td>\n",
              "      <td>0.042610</td>\n",
              "      <td>2.221812</td>\n",
              "      <td>0.463320</td>\n",
              "      <td>0.97066</td>\n",
              "      <td>1.283137</td>\n",
              "      <td>45.981590</td>\n",
              "      <td>38.803591</td>\n",
              "      <td>73.858240</td>\n",
              "      <td>0.455518</td>\n",
              "      <td>0.057140</td>\n",
              "      <td>0.449791</td>\n",
              "      <td>0.094096</td>\n",
              "      <td>0.017254</td>\n",
              "      <td>0.032268</td>\n",
              "      <td>0.075007</td>\n",
              "      <td>0.061301</td>\n",
              "      <td>0.10322</td>\n",
              "    </tr>\n",
              "    <tr>\n",
              "      <th>min</th>\n",
              "      <td>0.000000</td>\n",
              "      <td>0.000000</td>\n",
              "      <td>45.404540</td>\n",
              "      <td>-73.964380</td>\n",
              "      <td>1.000000</td>\n",
              "      <td>0.000000</td>\n",
              "      <td>0.00000</td>\n",
              "      <td>0.000000</td>\n",
              "      <td>0.000000</td>\n",
              "      <td>0.000000</td>\n",
              "      <td>10.000000</td>\n",
              "      <td>0.000000</td>\n",
              "      <td>0.000000</td>\n",
              "      <td>0.000000</td>\n",
              "      <td>0.000000</td>\n",
              "      <td>0.000000</td>\n",
              "      <td>0.000000</td>\n",
              "      <td>0.000000</td>\n",
              "      <td>0.000000</td>\n",
              "      <td>0.00000</td>\n",
              "    </tr>\n",
              "    <tr>\n",
              "      <th>25%</th>\n",
              "      <td>0.000000</td>\n",
              "      <td>0.000000</td>\n",
              "      <td>45.497470</td>\n",
              "      <td>-73.603320</td>\n",
              "      <td>2.000000</td>\n",
              "      <td>1.000000</td>\n",
              "      <td>1.00000</td>\n",
              "      <td>1.000000</td>\n",
              "      <td>1.000000</td>\n",
              "      <td>80.000000</td>\n",
              "      <td>50.000000</td>\n",
              "      <td>0.000000</td>\n",
              "      <td>0.000000</td>\n",
              "      <td>0.000000</td>\n",
              "      <td>0.000000</td>\n",
              "      <td>0.000000</td>\n",
              "      <td>0.000000</td>\n",
              "      <td>0.000000</td>\n",
              "      <td>0.000000</td>\n",
              "      <td>1.00000</td>\n",
              "    </tr>\n",
              "    <tr>\n",
              "      <th>50%</th>\n",
              "      <td>0.000000</td>\n",
              "      <td>0.000000</td>\n",
              "      <td>45.519260</td>\n",
              "      <td>-73.579670</td>\n",
              "      <td>3.000000</td>\n",
              "      <td>1.000000</td>\n",
              "      <td>1.00000</td>\n",
              "      <td>1.000000</td>\n",
              "      <td>6.000000</td>\n",
              "      <td>94.000000</td>\n",
              "      <td>78.000000</td>\n",
              "      <td>1.000000</td>\n",
              "      <td>0.000000</td>\n",
              "      <td>0.000000</td>\n",
              "      <td>0.000000</td>\n",
              "      <td>0.000000</td>\n",
              "      <td>0.000000</td>\n",
              "      <td>0.000000</td>\n",
              "      <td>0.000000</td>\n",
              "      <td>1.00000</td>\n",
              "    </tr>\n",
              "    <tr>\n",
              "      <th>75%</th>\n",
              "      <td>0.000000</td>\n",
              "      <td>1.000000</td>\n",
              "      <td>45.534050</td>\n",
              "      <td>-73.565950</td>\n",
              "      <td>4.000000</td>\n",
              "      <td>1.000000</td>\n",
              "      <td>2.00000</td>\n",
              "      <td>2.000000</td>\n",
              "      <td>23.000000</td>\n",
              "      <td>99.000000</td>\n",
              "      <td>119.000000</td>\n",
              "      <td>1.000000</td>\n",
              "      <td>0.000000</td>\n",
              "      <td>1.000000</td>\n",
              "      <td>0.000000</td>\n",
              "      <td>0.000000</td>\n",
              "      <td>0.000000</td>\n",
              "      <td>0.000000</td>\n",
              "      <td>0.000000</td>\n",
              "      <td>1.00000</td>\n",
              "    </tr>\n",
              "    <tr>\n",
              "      <th>max</th>\n",
              "      <td>1.000000</td>\n",
              "      <td>1.000000</td>\n",
              "      <td>45.700200</td>\n",
              "      <td>-73.480770</td>\n",
              "      <td>18.000000</td>\n",
              "      <td>20.000000</td>\n",
              "      <td>20.00000</td>\n",
              "      <td>20.000000</td>\n",
              "      <td>676.000000</td>\n",
              "      <td>100.000000</td>\n",
              "      <td>500.000000</td>\n",
              "      <td>1.000000</td>\n",
              "      <td>1.000000</td>\n",
              "      <td>1.000000</td>\n",
              "      <td>1.000000</td>\n",
              "      <td>1.000000</td>\n",
              "      <td>1.000000</td>\n",
              "      <td>1.000000</td>\n",
              "      <td>1.000000</td>\n",
              "      <td>1.00000</td>\n",
              "    </tr>\n",
              "  </tbody>\n",
              "</table>\n",
              "</div>"
            ],
            "text/plain": [
              "       host_is_superhost  ...  bed_type_Real Bed\n",
              "count       20149.000000  ...        20149.00000\n",
              "mean            0.193062  ...            0.98923\n",
              "std             0.394711  ...            0.10322\n",
              "min             0.000000  ...            0.00000\n",
              "25%             0.000000  ...            1.00000\n",
              "50%             0.000000  ...            1.00000\n",
              "75%             0.000000  ...            1.00000\n",
              "max             1.000000  ...            1.00000\n",
              "\n",
              "[8 rows x 20 columns]"
            ]
          },
          "metadata": {
            "tags": []
          },
          "execution_count": 114
        }
      ]
    },
    {
      "cell_type": "markdown",
      "metadata": {
        "id": "1yHUSYfpUYxh",
        "colab_type": "text"
      },
      "source": [
        "# split training and testing data"
      ]
    },
    {
      "cell_type": "code",
      "metadata": {
        "id": "ryC3MTI3PYnb",
        "colab_type": "code",
        "colab": {}
      },
      "source": [
        "from sklearn.model_selection import train_test_split\n",
        "X_train, X_test, y_train, y_test = train_test_split(data_model.loc[:,data_model.columns != \"price\"], \n",
        "                                                    data_model.loc[:,\"price\"], \n",
        "                                                    test_size = 0.2, \n",
        "                                                    random_state = 100)"
      ],
      "execution_count": 0,
      "outputs": []
    },
    {
      "cell_type": "code",
      "metadata": {
        "id": "CGERAcTqUvBK",
        "colab_type": "code",
        "outputId": "03d51301-00eb-4a93-c949-f1b2da201205",
        "colab": {
          "base_uri": "https://localhost:8080/",
          "height": 338
        }
      },
      "source": [
        "X_train.describe()"
      ],
      "execution_count": 116,
      "outputs": [
        {
          "output_type": "execute_result",
          "data": {
            "text/html": [
              "<div>\n",
              "<style scoped>\n",
              "    .dataframe tbody tr th:only-of-type {\n",
              "        vertical-align: middle;\n",
              "    }\n",
              "\n",
              "    .dataframe tbody tr th {\n",
              "        vertical-align: top;\n",
              "    }\n",
              "\n",
              "    .dataframe thead th {\n",
              "        text-align: right;\n",
              "    }\n",
              "</style>\n",
              "<table border=\"1\" class=\"dataframe\">\n",
              "  <thead>\n",
              "    <tr style=\"text-align: right;\">\n",
              "      <th></th>\n",
              "      <th>host_is_superhost</th>\n",
              "      <th>host_identity_verified</th>\n",
              "      <th>latitude</th>\n",
              "      <th>longitude</th>\n",
              "      <th>accommodates</th>\n",
              "      <th>bathrooms</th>\n",
              "      <th>bedrooms</th>\n",
              "      <th>beds</th>\n",
              "      <th>number_of_reviews</th>\n",
              "      <th>review_scores_rating</th>\n",
              "      <th>room_type_Entire home/apt</th>\n",
              "      <th>room_type_Hotel room</th>\n",
              "      <th>room_type_Private room</th>\n",
              "      <th>room_type_Shared room</th>\n",
              "      <th>bed_type_Airbed</th>\n",
              "      <th>bed_type_Couch</th>\n",
              "      <th>bed_type_Futon</th>\n",
              "      <th>bed_type_Pull-out Sofa</th>\n",
              "      <th>bed_type_Real Bed</th>\n",
              "    </tr>\n",
              "  </thead>\n",
              "  <tbody>\n",
              "    <tr>\n",
              "      <th>count</th>\n",
              "      <td>16119.000000</td>\n",
              "      <td>16119.000000</td>\n",
              "      <td>16119.000000</td>\n",
              "      <td>16119.000000</td>\n",
              "      <td>16119.000000</td>\n",
              "      <td>16119.000000</td>\n",
              "      <td>16119.000000</td>\n",
              "      <td>16119.000000</td>\n",
              "      <td>16119.000000</td>\n",
              "      <td>16119.000000</td>\n",
              "      <td>16119.000000</td>\n",
              "      <td>16119.000000</td>\n",
              "      <td>16119.000000</td>\n",
              "      <td>16119.000000</td>\n",
              "      <td>16119.000000</td>\n",
              "      <td>16119.000000</td>\n",
              "      <td>16119.000000</td>\n",
              "      <td>16119.000000</td>\n",
              "      <td>16119.000000</td>\n",
              "    </tr>\n",
              "    <tr>\n",
              "      <th>mean</th>\n",
              "      <td>0.193622</td>\n",
              "      <td>0.327192</td>\n",
              "      <td>45.516012</td>\n",
              "      <td>-73.589097</td>\n",
              "      <td>3.454433</td>\n",
              "      <td>1.138160</td>\n",
              "      <td>1.385694</td>\n",
              "      <td>1.779205</td>\n",
              "      <td>23.344748</td>\n",
              "      <td>74.046591</td>\n",
              "      <td>0.705937</td>\n",
              "      <td>0.003598</td>\n",
              "      <td>0.282276</td>\n",
              "      <td>0.008189</td>\n",
              "      <td>0.000372</td>\n",
              "      <td>0.001117</td>\n",
              "      <td>0.005708</td>\n",
              "      <td>0.003846</td>\n",
              "      <td>0.988957</td>\n",
              "    </tr>\n",
              "    <tr>\n",
              "      <th>std</th>\n",
              "      <td>0.395149</td>\n",
              "      <td>0.469202</td>\n",
              "      <td>0.031591</td>\n",
              "      <td>0.042179</td>\n",
              "      <td>2.234656</td>\n",
              "      <td>0.483332</td>\n",
              "      <td>0.977953</td>\n",
              "      <td>1.299517</td>\n",
              "      <td>46.251416</td>\n",
              "      <td>38.853981</td>\n",
              "      <td>0.455634</td>\n",
              "      <td>0.059879</td>\n",
              "      <td>0.450121</td>\n",
              "      <td>0.090125</td>\n",
              "      <td>0.019290</td>\n",
              "      <td>0.033399</td>\n",
              "      <td>0.075335</td>\n",
              "      <td>0.061902</td>\n",
              "      <td>0.104506</td>\n",
              "    </tr>\n",
              "    <tr>\n",
              "      <th>min</th>\n",
              "      <td>0.000000</td>\n",
              "      <td>0.000000</td>\n",
              "      <td>45.404540</td>\n",
              "      <td>-73.964380</td>\n",
              "      <td>1.000000</td>\n",
              "      <td>0.000000</td>\n",
              "      <td>0.000000</td>\n",
              "      <td>0.000000</td>\n",
              "      <td>0.000000</td>\n",
              "      <td>0.000000</td>\n",
              "      <td>0.000000</td>\n",
              "      <td>0.000000</td>\n",
              "      <td>0.000000</td>\n",
              "      <td>0.000000</td>\n",
              "      <td>0.000000</td>\n",
              "      <td>0.000000</td>\n",
              "      <td>0.000000</td>\n",
              "      <td>0.000000</td>\n",
              "      <td>0.000000</td>\n",
              "    </tr>\n",
              "    <tr>\n",
              "      <th>25%</th>\n",
              "      <td>0.000000</td>\n",
              "      <td>0.000000</td>\n",
              "      <td>45.497375</td>\n",
              "      <td>-73.603275</td>\n",
              "      <td>2.000000</td>\n",
              "      <td>1.000000</td>\n",
              "      <td>1.000000</td>\n",
              "      <td>1.000000</td>\n",
              "      <td>1.000000</td>\n",
              "      <td>80.000000</td>\n",
              "      <td>0.000000</td>\n",
              "      <td>0.000000</td>\n",
              "      <td>0.000000</td>\n",
              "      <td>0.000000</td>\n",
              "      <td>0.000000</td>\n",
              "      <td>0.000000</td>\n",
              "      <td>0.000000</td>\n",
              "      <td>0.000000</td>\n",
              "      <td>1.000000</td>\n",
              "    </tr>\n",
              "    <tr>\n",
              "      <th>50%</th>\n",
              "      <td>0.000000</td>\n",
              "      <td>0.000000</td>\n",
              "      <td>45.519220</td>\n",
              "      <td>-73.579620</td>\n",
              "      <td>3.000000</td>\n",
              "      <td>1.000000</td>\n",
              "      <td>1.000000</td>\n",
              "      <td>1.000000</td>\n",
              "      <td>6.000000</td>\n",
              "      <td>94.000000</td>\n",
              "      <td>1.000000</td>\n",
              "      <td>0.000000</td>\n",
              "      <td>0.000000</td>\n",
              "      <td>0.000000</td>\n",
              "      <td>0.000000</td>\n",
              "      <td>0.000000</td>\n",
              "      <td>0.000000</td>\n",
              "      <td>0.000000</td>\n",
              "      <td>1.000000</td>\n",
              "    </tr>\n",
              "    <tr>\n",
              "      <th>75%</th>\n",
              "      <td>0.000000</td>\n",
              "      <td>1.000000</td>\n",
              "      <td>45.533780</td>\n",
              "      <td>-73.565900</td>\n",
              "      <td>4.000000</td>\n",
              "      <td>1.000000</td>\n",
              "      <td>2.000000</td>\n",
              "      <td>2.000000</td>\n",
              "      <td>23.000000</td>\n",
              "      <td>99.000000</td>\n",
              "      <td>1.000000</td>\n",
              "      <td>0.000000</td>\n",
              "      <td>1.000000</td>\n",
              "      <td>0.000000</td>\n",
              "      <td>0.000000</td>\n",
              "      <td>0.000000</td>\n",
              "      <td>0.000000</td>\n",
              "      <td>0.000000</td>\n",
              "      <td>1.000000</td>\n",
              "    </tr>\n",
              "    <tr>\n",
              "      <th>max</th>\n",
              "      <td>1.000000</td>\n",
              "      <td>1.000000</td>\n",
              "      <td>45.700200</td>\n",
              "      <td>-73.480770</td>\n",
              "      <td>18.000000</td>\n",
              "      <td>20.000000</td>\n",
              "      <td>20.000000</td>\n",
              "      <td>20.000000</td>\n",
              "      <td>676.000000</td>\n",
              "      <td>100.000000</td>\n",
              "      <td>1.000000</td>\n",
              "      <td>1.000000</td>\n",
              "      <td>1.000000</td>\n",
              "      <td>1.000000</td>\n",
              "      <td>1.000000</td>\n",
              "      <td>1.000000</td>\n",
              "      <td>1.000000</td>\n",
              "      <td>1.000000</td>\n",
              "      <td>1.000000</td>\n",
              "    </tr>\n",
              "  </tbody>\n",
              "</table>\n",
              "</div>"
            ],
            "text/plain": [
              "       host_is_superhost  ...  bed_type_Real Bed\n",
              "count       16119.000000  ...       16119.000000\n",
              "mean            0.193622  ...           0.988957\n",
              "std             0.395149  ...           0.104506\n",
              "min             0.000000  ...           0.000000\n",
              "25%             0.000000  ...           1.000000\n",
              "50%             0.000000  ...           1.000000\n",
              "75%             0.000000  ...           1.000000\n",
              "max             1.000000  ...           1.000000\n",
              "\n",
              "[8 rows x 19 columns]"
            ]
          },
          "metadata": {
            "tags": []
          },
          "execution_count": 116
        }
      ]
    },
    {
      "cell_type": "code",
      "metadata": {
        "id": "Jmo--t__ouX-",
        "colab_type": "code",
        "colab": {
          "base_uri": "https://localhost:8080/",
          "height": 173
        },
        "outputId": "50a8e46e-2554-4c08-f2de-af6f273ea2c1"
      },
      "source": [
        "y_train.describe()"
      ],
      "execution_count": 117,
      "outputs": [
        {
          "output_type": "execute_result",
          "data": {
            "text/plain": [
              "count    16119.000000\n",
              "mean        96.693281\n",
              "std         73.968669\n",
              "min         10.000000\n",
              "25%         50.000000\n",
              "50%         78.000000\n",
              "75%        120.000000\n",
              "max        500.000000\n",
              "Name: price, dtype: float64"
            ]
          },
          "metadata": {
            "tags": []
          },
          "execution_count": 117
        }
      ]
    },
    {
      "cell_type": "code",
      "metadata": {
        "id": "fQcdm1GmeIbH",
        "colab_type": "code",
        "outputId": "c1afb2c1-e2cd-42fe-9aa4-d39c1d339d96",
        "colab": {
          "base_uri": "https://localhost:8080/",
          "height": 296
        }
      },
      "source": [
        "sns.regplot(x=X_train.latitude,\n",
        "            y=np.log(y_train), fit_reg=True)"
      ],
      "execution_count": 118,
      "outputs": [
        {
          "output_type": "execute_result",
          "data": {
            "text/plain": [
              "<matplotlib.axes._subplots.AxesSubplot at 0x7fe6f5e77588>"
            ]
          },
          "metadata": {
            "tags": []
          },
          "execution_count": 118
        },
        {
          "output_type": "display_data",
          "data": {
            "image/png": "[encoded data removed]",
            "text/plain": [
              "<Figure size 432x288 with 1 Axes>"
            ]
          },
          "metadata": {
            "tags": []
          }
        }
      ]
    },
    {
      "cell_type": "code",
      "metadata": {
        "id": "7VmNLXu0fGRq",
        "colab_type": "code",
        "outputId": "9570069c-2994-4b78-cc2c-eccb8c2495bc",
        "colab": {
          "base_uri": "https://localhost:8080/",
          "height": 314
        }
      },
      "source": [
        "sns.regplot(x=X_train.bathrooms,\n",
        "            y=np.log(y_train),fit_reg=True)\n",
        "print (np.corrcoef(X_train.bathrooms, np.log((y_train))))"
      ],
      "execution_count": 119,
      "outputs": [
        {
          "output_type": "stream",
          "text": [
            "[[1.       0.169392]\n",
            " [0.169392 1.      ]]\n"
          ],
          "name": "stdout"
        },
        {
          "output_type": "display_data",
          "data": {
            "image/png": "[encoded data removed]",
            "text/plain": [
              "<Figure size 432x288 with 1 Axes>"
            ]
          },
          "metadata": {
            "tags": []
          }
        }
      ]
    },
    {
      "cell_type": "code",
      "metadata": {
        "id": "ben_6KJFfLNC",
        "colab_type": "code",
        "outputId": "8ac31e32-013d-4a09-9db2-d64ce1cb8b35",
        "colab": {
          "base_uri": "https://localhost:8080/",
          "height": 314
        }
      },
      "source": [
        "sns.regplot(x=X_train.beds,\n",
        "            y=(np.log(y_train)),fit_reg=True)\n",
        "print (np.corrcoef(X_train.beds, np.log((y_train))))"
      ],
      "execution_count": 120,
      "outputs": [
        {
          "output_type": "stream",
          "text": [
            "[[1.         0.45237406]\n",
            " [0.45237406 1.        ]]\n"
          ],
          "name": "stdout"
        },
        {
          "output_type": "display_data",
          "data": {
            "image/png": "[encoded data removed]",
            "text/plain": [
              "<Figure size 432x288 with 1 Axes>"
            ]
          },
          "metadata": {
            "tags": []
          }
        }
      ]
    },
    {
      "cell_type": "code",
      "metadata": {
        "id": "kdGHW-_pg4a9",
        "colab_type": "code",
        "outputId": "8a759038-767a-4d85-a3f5-5b03c0777678",
        "colab": {
          "base_uri": "https://localhost:8080/",
          "height": 139
        }
      },
      "source": [
        "X_train.columns"
      ],
      "execution_count": 121,
      "outputs": [
        {
          "output_type": "execute_result",
          "data": {
            "text/plain": [
              "Index(['host_is_superhost', 'host_identity_verified', 'latitude', 'longitude',\n",
              "       'accommodates', 'bathrooms', 'bedrooms', 'beds', 'number_of_reviews',\n",
              "       'review_scores_rating', 'room_type_Entire home/apt',\n",
              "       'room_type_Hotel room', 'room_type_Private room',\n",
              "       'room_type_Shared room', 'bed_type_Airbed', 'bed_type_Couch',\n",
              "       'bed_type_Futon', 'bed_type_Pull-out Sofa', 'bed_type_Real Bed'],\n",
              "      dtype='object')"
            ]
          },
          "metadata": {
            "tags": []
          },
          "execution_count": 121
        }
      ]
    },
    {
      "cell_type": "markdown",
      "metadata": {
        "id": "MDuy7t7rY4O9",
        "colab_type": "text"
      },
      "source": [
        "## Linear regression"
      ]
    },
    {
      "cell_type": "code",
      "metadata": {
        "id": "txLvU56MUt4t",
        "colab_type": "code",
        "colab": {}
      },
      "source": [
        "from sklearn.linear_model import LinearRegression\n",
        "reg = LinearRegression().fit(X_train, y_train)"
      ],
      "execution_count": 0,
      "outputs": []
    },
    {
      "cell_type": "code",
      "metadata": {
        "id": "_6OtntkTan1f",
        "colab_type": "code",
        "outputId": "88f34604-e0f0-4a50-f22f-91c437d227ed",
        "colab": {
          "base_uri": "https://localhost:8080/",
          "height": 34
        }
      },
      "source": [
        "# R^2\n",
        "reg.score(X_train, y_train)"
      ],
      "execution_count": 123,
      "outputs": [
        {
          "output_type": "execute_result",
          "data": {
            "text/plain": [
              "0.3605798795042473"
            ]
          },
          "metadata": {
            "tags": []
          },
          "execution_count": 123
        }
      ]
    },
    {
      "cell_type": "code",
      "metadata": {
        "colab_type": "code",
        "id": "Wq0gTKvPfkXO",
        "colab": {}
      },
      "source": [
        "# predict on testing data\n",
        "y_pred = reg.predict(X_test)"
      ],
      "execution_count": 0,
      "outputs": []
    },
    {
      "cell_type": "code",
      "metadata": {
        "id": "FYaduj4gdMRg",
        "colab_type": "code",
        "outputId": "2dc0bf46-37c0-4263-e409-7de646e48d0f",
        "colab": {
          "base_uri": "https://localhost:8080/",
          "height": 296
        }
      },
      "source": [
        "sns.regplot(x=y_test,y=y_pred,fit_reg=True)"
      ],
      "execution_count": 125,
      "outputs": [
        {
          "output_type": "execute_result",
          "data": {
            "text/plain": [
              "<matplotlib.axes._subplots.AxesSubplot at 0x7fe6f622fb70>"
            ]
          },
          "metadata": {
            "tags": []
          },
          "execution_count": 125
        },
        {
          "output_type": "display_data",
          "data": {
            "image/png": "[encoded data removed]",
            "text/plain": [
              "<Figure size 432x288 with 1 Axes>"
            ]
          },
          "metadata": {
            "tags": []
          }
        }
      ]
    },
    {
      "cell_type": "code",
      "metadata": {
        "id": "WtV4l0PccssU",
        "colab_type": "code",
        "colab": {
          "base_uri": "https://localhost:8080/",
          "height": 34
        },
        "outputId": "5cadb25d-3fbb-4966-b7b7-32f87ed6e993"
      },
      "source": [
        "from sklearn.metrics import mean_squared_error\n",
        "mean_squared_error(y_test, y_pred)"
      ],
      "execution_count": 126,
      "outputs": [
        {
          "output_type": "execute_result",
          "data": {
            "text/plain": [
              "3257.71210219884"
            ]
          },
          "metadata": {
            "tags": []
          },
          "execution_count": 126
        }
      ]
    },
    {
      "cell_type": "code",
      "metadata": {
        "id": "qkngs1TCdbE6",
        "colab_type": "code",
        "colab": {
          "base_uri": "https://localhost:8080/",
          "height": 421
        },
        "outputId": "71295a12-eb5e-4e9b-ac2a-494e59d7a7ae"
      },
      "source": [
        "err= np.abs(y_pred - y_test)\n",
        "print(err.describe())\n",
        "\n",
        "plt.hist(err, bins=50)\n",
        "plt.show()"
      ],
      "execution_count": 128,
      "outputs": [
        {
          "output_type": "stream",
          "text": [
            "count    4030.000000\n",
            "mean       36.242449\n",
            "std        44.098521\n",
            "min         0.016166\n",
            "25%        11.818674\n",
            "50%        25.074375\n",
            "75%        43.410648\n",
            "max       416.571427\n",
            "Name: price, dtype: float64\n"
          ],
          "name": "stdout"
        },
        {
          "output_type": "display_data",
          "data": {
            "image/png": "[encoded data removed]",
            "text/plain": [
              "<Figure size 432x288 with 1 Axes>"
            ]
          },
          "metadata": {
            "tags": []
          }
        }
      ]
    },
    {
      "cell_type": "code",
      "metadata": {
        "id": "yziHlC2TsXFS",
        "colab_type": "code",
        "colab": {
          "base_uri": "https://localhost:8080/",
          "height": 331
        },
        "outputId": "6aa9d312-7edb-4cd8-e0ed-915f77ef70ae"
      },
      "source": [
        "##\n",
        "# use log price to make model\n",
        "reg_log = LinearRegression().fit(X_train, np.log(y_train))\n",
        "\n",
        "# R^2\n",
        "print(\"reg_logprice model R^2 : \" , reg_log.score(X_train, np.log(y_train)), sep= \"\")\n",
        "\n",
        "sns.regplot(x=np.log(y_test),y=y_pred,fit_reg=True)\n",
        "\n",
        "# predict on testing data\n",
        "y_pred_log = reg_log.predict(X_test)\n",
        "\n",
        "# RMSE ( Root Mean Squared Error)\n",
        "print(\"RMSE_logged : \", mean_squared_error(np.log(y_test), y_pred_log), sep=\"\")\n",
        "print(\"RMSE_price : \", mean_squared_error(y_test, np.exp(y_pred_log)), sep=\"\")"
      ],
      "execution_count": 132,
      "outputs": [
        {
          "output_type": "stream",
          "text": [
            "reg_logprice model R^2 : 0.4606143940104135\n",
            "RMSE_logged : 0.22110818587533865\n",
            "RMSE_price : 3499.1676119098397\n"
          ],
          "name": "stdout"
        },
        {
          "output_type": "display_data",
          "data": {
            "image/png": "[encoded data removed]",
            "text/plain": [
              "<Figure size 432x288 with 1 Axes>"
            ]
          },
          "metadata": {
            "tags": []
          }
        }
      ]
    },
    {
      "cell_type": "code",
      "metadata": {
        "id": "qgT9fVbnhtL3",
        "colab_type": "code",
        "colab": {
          "base_uri": "https://localhost:8080/",
          "height": 421
        },
        "outputId": "63bdfd80-297a-4d3b-d982-ae0689341ea2"
      },
      "source": [
        "err_log= np.abs(np.exp(y_pred_log) - y_test)\n",
        "print(err_log.describe())\n",
        "\n",
        "plt.hist(err_log, bins=50)\n",
        "plt.show()"
      ],
      "execution_count": 131,
      "outputs": [
        {
          "output_type": "stream",
          "text": [
            "count    4030.000000\n",
            "mean       34.265407\n",
            "std        48.224750\n",
            "min         0.004747\n",
            "25%         9.771309\n",
            "50%        19.997155\n",
            "75%        37.992201\n",
            "max       538.390686\n",
            "Name: price, dtype: float64\n"
          ],
          "name": "stdout"
        },
        {
          "output_type": "display_data",
          "data": {
            "image/png": "[encoded data removed]",
            "text/plain": [
              "<Figure size 432x288 with 1 Axes>"
            ]
          },
          "metadata": {
            "tags": []
          }
        }
      ]
    }
  ]
}